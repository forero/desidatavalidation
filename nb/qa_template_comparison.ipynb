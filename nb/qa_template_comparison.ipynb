{
 "cells": [
  {
   "cell_type": "code",
   "execution_count": 54,
   "id": "68dd5550-b7c5-40b9-bc96-271175a5a97d",
   "metadata": {
    "tags": []
   },
   "outputs": [],
   "source": [
    "import numpy as np\n",
    "import matplotlib.pyplot as plt\n",
    "import os\n",
    "import fitsio\n",
    "from desiutil.log import get_logger#, DesiLogContext, WARNING\n",
    "from astropy.table import Table, Column, hstack, vstack, join\n",
    "from desitarget.io import read_targets_in_tiles\n",
    "import glob\n",
    "import sklearn.metrics\n",
    "log = get_logger()"
   ]
  },
  {
   "cell_type": "code",
   "execution_count": 2,
   "id": "c01bf035-a895-46de-b411-0cbbacb07707",
   "metadata": {
    "tags": []
   },
   "outputs": [],
   "source": [
    "desi_root = desi_root = os.getenv('DESI_ROOT')\n",
    "projectdir = os.path.join(desi_root, 'users', 'ioannis', 'fastspecfit', 'redrock-templates')"
   ]
  },
  {
   "cell_type": "code",
   "execution_count": 3,
   "id": "3c48a25e-441d-4c7b-98f8-7d16bfdd9cb6",
   "metadata": {
    "tags": []
   },
   "outputs": [
    {
     "data": {
      "text/plain": [
       "'/global/cfs/cdirs/desi/users/ioannis/fastspecfit/redrock-templates'"
      ]
     },
     "execution_count": 3,
     "metadata": {},
     "output_type": "execute_result"
    }
   ],
   "source": [
    "projectdir"
   ]
  },
  {
   "cell_type": "code",
   "execution_count": 4,
   "id": "67831cb7-30c6-4d9d-8324-6f89b287a565",
   "metadata": {
    "tags": []
   },
   "outputs": [],
   "source": [
    "def read_vi(vi_spectype=None, quality=2.5):\n",
    "    # see https://data.desi.lbl.gov/doc/releases/edr/vac/vi/\n",
    "    from glob import glob\n",
    "    #vifiles = glob('/global/cfs/cdirs/desi/public/edr/vac/edr/vi/v1.0/*.csv')\n",
    "    allvi = []\n",
    "    for targ in ['BGS', 'LRG', 'ELG', 'QSO']:\n",
    "        vifile = f'/global/cfs/cdirs/desi/public/edr/vac/edr/vi/v1.0/EDR_VI_{targ}_v1.csv'\n",
    "        vi = Table.read(vifile)\n",
    "        vi['SUFFIX'] = targ # os.path.basename(vifile).replace('EDR_VI_', '').replace('_v1.csv', '')\n",
    "        allvi.append(vi)\n",
    "    allvi = vstack(allvi)\n",
    "    I = np.where(allvi['VI_QUALITY'] >= quality)[0]\n",
    "    log.info(f'Trimming to {len(I):,d}/{len(allvi):,d} VI redshifts.')\n",
    "    allvi = allvi[I]\n",
    "\n",
    "    _, uindx = np.unique(allvi['TARGETID'], return_index=True)\n",
    "    log.info(f'Trimming to {len(uindx):,d}/{len(allvi):,d} unique targets.')\n",
    "    allvi = allvi[uindx]\n",
    "\n",
    "    if vi_spectype:\n",
    "        I = allvi['VI_SPECTYPE'] == vi_spectype\n",
    "        log.info(f'Trimming to {np.sum(I):,d}/{len(allvi):,d} objects with VI_SPECTYPE={vi_spectype}.')\n",
    "        allvi = allvi[I]\n",
    "    \n",
    "    return allvi"
   ]
  },
  {
   "cell_type": "code",
   "execution_count": 5,
   "id": "ce03d9c3-7650-484b-9220-4e68a6dfebc6",
   "metadata": {
    "tags": []
   },
   "outputs": [
    {
     "name": "stdout",
     "output_type": "stream",
     "text": [
      "INFO:3386545520.py:13:read_vi: Trimming to 17,275/20,373 VI redshifts.\n",
      "INFO:3386545520.py:17:read_vi: Trimming to 17,083/17,275 unique targets.\n",
      "1\n",
      "1\n",
      "1\n",
      "1\n",
      "1\n",
      "1\n",
      "1\n",
      "1\n"
     ]
    }
   ],
   "source": [
    "all_vi = read_vi()\n",
    "assert np.unique(all_vi[\"TARGETID\"]).size == len(all_vi)\n",
    "\n",
    "tiles_edr = Table.read('/global/cfs/cdirs/desi/public/edr/spectro/redux/fuji/tiles-fuji.fits')\n",
    "\n",
    "tiles_sv = tiles_edr[((tiles_edr['SURVEY']=='sv3')|(tiles_edr['SURVEY']=='sv1'))&(tiles_edr['PROGRAM']!='backup')]\n",
    "tiles_sv['RA'], tiles_sv['DEC'] = tiles_sv['TILERA'], tiles_sv['TILEDEC']\n",
    "\n",
    "tileid_vi = list(set(all_vi[\"TILEID\"]))\n",
    "tilera_vi = []\n",
    "tiledec_vi = []\n",
    "for tileid in tileid_vi:\n",
    "    ii = tiles_edr['TILEID']==tileid\n",
    "    tilera_vi.append(float(tiles_edr['TILERA'][ii]))\n",
    "    tiledec_vi.append(float(tiles_edr['TILEDEC'][ii]))\n",
    "    print(np.count_nonzero(ii))\n",
    "tiles_vi = Table()\n",
    "tiles_vi[\"TILEID\"], tiles_vi[\"RA\"], tiles_vi[\"DEC\"] = tileid_vi, tilera_vi, tiledec_vi"
   ]
  },
  {
   "cell_type": "code",
   "execution_count": 6,
   "id": "b3f42c35-ab3a-4ded-8f67-bd5240cd4914",
   "metadata": {
    "tags": []
   },
   "outputs": [
    {
     "data": {
      "text/html": [
       "<div><i>Table length=8</i>\n",
       "<table id=\"table139912604003792\" class=\"table-striped table-bordered table-condensed\">\n",
       "<thead><tr><th>TILEID</th><th>RA</th><th>DEC</th></tr></thead>\n",
       "<thead><tr><th>int64</th><th>float64</th><th>float64</th></tr></thead>\n",
       "<tr><td>80608</td><td>106.74</td><td>56.2</td></tr>\n",
       "<tr><td>80609</td><td>150.12</td><td>2.206</td></tr>\n",
       "<tr><td>80610</td><td>150.12</td><td>2.306</td></tr>\n",
       "<tr><td>80613</td><td>106.74</td><td>56.1</td></tr>\n",
       "<tr><td>80670</td><td>38.0</td><td>-2.8</td></tr>\n",
       "<tr><td>80605</td><td>36.448</td><td>-4.601</td></tr>\n",
       "<tr><td>80606</td><td>36.448</td><td>-4.501</td></tr>\n",
       "<tr><td>80607</td><td>106.74</td><td>56.1</td></tr>\n",
       "</table></div>"
      ],
      "text/plain": [
       "<Table length=8>\n",
       "TILEID    RA     DEC  \n",
       "int64  float64 float64\n",
       "------ ------- -------\n",
       " 80608  106.74    56.2\n",
       " 80609  150.12   2.206\n",
       " 80610  150.12   2.306\n",
       " 80613  106.74    56.1\n",
       " 80670    38.0    -2.8\n",
       " 80605  36.448  -4.601\n",
       " 80606  36.448  -4.501\n",
       " 80607  106.74    56.1"
      ]
     },
     "execution_count": 6,
     "metadata": {},
     "output_type": "execute_result"
    }
   ],
   "source": [
    "tiles_vi"
   ]
  },
  {
   "cell_type": "code",
   "execution_count": 7,
   "id": "a6928234-18bb-48b9-8002-ef0dff02c438",
   "metadata": {
    "tags": []
   },
   "outputs": [
    {
     "data": {
      "text/html": [
       "<div><i>Table length=615</i>\n",
       "<table id=\"table139912604008064\" class=\"table-striped table-bordered table-condensed\">\n",
       "<thead><tr><th>TILEID</th><th>SURVEY</th><th>PROGRAM</th><th>FAPRGRM</th><th>FAFLAVOR</th><th>NEXP</th><th>EXPTIME</th><th>TILERA</th><th>TILEDEC</th><th>EFFTIME_ETC</th><th>EFFTIME_SPEC</th><th>EFFTIME_GFA</th><th>GOALTIME</th><th>OBSSTATUS</th><th>LRG_EFFTIME_DARK</th><th>ELG_EFFTIME_DARK</th><th>BGS_EFFTIME_BRIGHT</th><th>LYA_EFFTIME_DARK</th><th>GOALTYPE</th><th>MINTFRAC</th><th>LASTNIGHT</th><th>RA</th><th>DEC</th></tr></thead>\n",
       "<thead><tr><th>int32</th><th>bytes20</th><th>bytes6</th><th>bytes20</th><th>bytes20</th><th>int64</th><th>float64</th><th>float64</th><th>float64</th><th>float64</th><th>float64</th><th>float64</th><th>float64</th><th>bytes20</th><th>float64</th><th>float64</th><th>float64</th><th>float64</th><th>bytes20</th><th>float64</th><th>int32</th><th>float64</th><th>float64</th></tr></thead>\n",
       "<tr><td>80609</td><td>sv1</td><td>dark</td><td>lrgqso</td><td>cmxlrgqso</td><td>15</td><td>13500.7</td><td>150.12</td><td>2.206</td><td>0.0</td><td>7828.3</td><td>0.0</td><td>4000.0</td><td>obsstart</td><td>7847.0</td><td>7828.3</td><td>8057.3</td><td>10707.3</td><td>dark</td><td>0.9</td><td>20201217</td><td>150.12</td><td>2.206</td></tr>\n",
       "<tr><td>80607</td><td>sv1</td><td>dark</td><td>lrgqso</td><td>cmxlrgqso</td><td>15</td><td>13500.8</td><td>106.74</td><td>56.1</td><td>0.0</td><td>9374.2</td><td>0.0</td><td>4000.0</td><td>obsstart</td><td>8794.6</td><td>9374.2</td><td>8553.9</td><td>8541.1</td><td>dark</td><td>0.9</td><td>20201219</td><td>106.74</td><td>56.1</td></tr>\n",
       "<tr><td>80606</td><td>sv1</td><td>dark</td><td>elg</td><td>cmxelg</td><td>12</td><td>10800.7</td><td>36.448</td><td>-4.501</td><td>0.0</td><td>6699.4</td><td>0.0</td><td>4000.0</td><td>obsstart</td><td>6555.6</td><td>6699.4</td><td>6583.6</td><td>7397.5</td><td>dark</td><td>0.9</td><td>20201219</td><td>36.448</td><td>-4.501</td></tr>\n",
       "<tr><td>80620</td><td>sv1</td><td>dark</td><td>lrgqso</td><td>sv1lrgqso</td><td>9</td><td>8100.5</td><td>144.0</td><td>65.0</td><td>0.0</td><td>7128.7</td><td>0.0</td><td>4000.0</td><td>obsstart</td><td>6643.9</td><td>7128.7</td><td>6299.8</td><td>6316.1</td><td>dark</td><td>0.9</td><td>20201221</td><td>144.0</td><td>65.0</td></tr>\n",
       "<tr><td>80622</td><td>sv1</td><td>dark</td><td>lrgqso</td><td>sv1lrgqso</td><td>6</td><td>5400.3</td><td>155.0</td><td>32.325</td><td>0.0</td><td>4916.9</td><td>0.0</td><td>4000.0</td><td>obsstart</td><td>4772.1</td><td>4916.9</td><td>4739.8</td><td>6935.4</td><td>dark</td><td>0.9</td><td>20201221</td><td>155.0</td><td>32.325</td></tr>\n",
       "<tr><td>80623</td><td>sv1</td><td>dark</td><td>elg</td><td>sv1elg</td><td>8</td><td>7200.4</td><td>155.0</td><td>32.425</td><td>0.0</td><td>4969.7</td><td>0.0</td><td>4000.0</td><td>obsstart</td><td>4903.1</td><td>4969.7</td><td>4916.9</td><td>7266.2</td><td>dark</td><td>0.9</td><td>20201221</td><td>155.0</td><td>32.425</td></tr>\n",
       "<tr><td>80611</td><td>sv1</td><td>bright</td><td>bgsmws</td><td>sv1bgsmws</td><td>12</td><td>3600.9</td><td>35.22</td><td>30.3</td><td>0.0</td><td>669.2</td><td>0.0</td><td>600.0</td><td>obsstart</td><td>641.1</td><td>723.7</td><td>669.2</td><td>407.7</td><td>bright</td><td>0.9</td><td>20201222</td><td>35.22</td><td>30.3</td></tr>\n",
       "<tr><td>80617</td><td>sv1</td><td>bright</td><td>bgsmws</td><td>sv1bgsmws</td><td>16</td><td>4801.0</td><td>5.0</td><td>28.0</td><td>0.0</td><td>1309.5</td><td>0.0</td><td>600.0</td><td>obsstart</td><td>1251.7</td><td>1369.7</td><td>1309.5</td><td>884.1</td><td>bright</td><td>0.9</td><td>20201223</td><td>5.0</td><td>28.0</td></tr>\n",
       "<tr><td>80608</td><td>sv1</td><td>dark</td><td>elg</td><td>cmxelg</td><td>23</td><td>20701.4</td><td>106.74</td><td>56.2</td><td>0.0</td><td>15166.0</td><td>0.0</td><td>4000.0</td><td>obsstart</td><td>14236.7</td><td>15166.0</td><td>13797.6</td><td>14267.9</td><td>dark</td><td>0.9</td><td>20201223</td><td>106.74</td><td>56.2</td></tr>\n",
       "<tr><td>80621</td><td>sv1</td><td>dark</td><td>elg</td><td>sv1elg</td><td>10</td><td>9000.5</td><td>144.0</td><td>65.1</td><td>0.0</td><td>4425.7</td><td>0.0</td><td>4000.0</td><td>obsstart</td><td>4120.5</td><td>4425.7</td><td>3976.4</td><td>3583.6</td><td>dark</td><td>0.9</td><td>20201223</td><td>144.0</td><td>65.1</td></tr>\n",
       "<tr><td>...</td><td>...</td><td>...</td><td>...</td><td>...</td><td>...</td><td>...</td><td>...</td><td>...</td><td>...</td><td>...</td><td>...</td><td>...</td><td>...</td><td>...</td><td>...</td><td>...</td><td>...</td><td>...</td><td>...</td><td>...</td><td>...</td><td>...</td></tr>\n",
       "<tr><td>595</td><td>sv3</td><td>bright</td><td>bright</td><td>sv3bright</td><td>1</td><td>1009.5</td><td>236.225</td><td>43.371</td><td>225.0</td><td>337.6</td><td>289.4</td><td>220.0</td><td>obsend</td><td>345.9</td><td>387.6</td><td>337.6</td><td>154.6</td><td>bright</td><td>0.9</td><td>20210529</td><td>236.225</td><td>43.371</td></tr>\n",
       "<tr><td>373</td><td>sv3</td><td>bright</td><td>bright</td><td>sv3bright</td><td>1</td><td>1117.0</td><td>245.832</td><td>43.335</td><td>224.0</td><td>337.6</td><td>302.5</td><td>220.0</td><td>obsend</td><td>344.7</td><td>382.5</td><td>337.6</td><td>152.5</td><td>bright</td><td>0.9</td><td>20210529</td><td>245.832</td><td>43.335</td></tr>\n",
       "<tr><td>49</td><td>sv3</td><td>bright</td><td>bright</td><td>sv3bright</td><td>1</td><td>1050.9</td><td>179.691</td><td>-0.078</td><td>222.5</td><td>285.3</td><td>283.0</td><td>220.0</td><td>obsend</td><td>280.4</td><td>275.4</td><td>285.3</td><td>175.2</td><td>bright</td><td>0.9</td><td>20210529</td><td>179.691</td><td>-0.078</td></tr>\n",
       "<tr><td>184</td><td>sv3</td><td>bright</td><td>bright</td><td>sv3bright</td><td>1</td><td>389.1</td><td>215.546</td><td>52.383</td><td>226.9</td><td>250.7</td><td>271.7</td><td>220.0</td><td>obsend</td><td>250.8</td><td>264.9</td><td>250.7</td><td>182.6</td><td>bright</td><td>0.9</td><td>20210529</td><td>215.546</td><td>52.383</td></tr>\n",
       "<tr><td>346</td><td>sv3</td><td>bright</td><td>bright</td><td>sv3bright</td><td>1</td><td>1146.0</td><td>241.016</td><td>43.333</td><td>220.6</td><td>341.0</td><td>306.9</td><td>220.0</td><td>obsend</td><td>347.9</td><td>386.0</td><td>341.0</td><td>152.8</td><td>bright</td><td>0.9</td><td>20210529</td><td>241.016</td><td>43.333</td></tr>\n",
       "<tr><td>400</td><td>sv3</td><td>bright</td><td>bright</td><td>sv3bright</td><td>1</td><td>939.0</td><td>252.442</td><td>34.39</td><td>223.2</td><td>324.4</td><td>290.9</td><td>220.0</td><td>obsend</td><td>330.7</td><td>368.8</td><td>324.4</td><td>157.6</td><td>bright</td><td>0.9</td><td>20210529</td><td>252.442</td><td>34.39</td></tr>\n",
       "<tr><td>265</td><td>sv3</td><td>bright</td><td>bright</td><td>sv3bright</td><td>2</td><td>2180.0</td><td>219.819</td><td>-0.718</td><td>222.2</td><td>347.5</td><td>319.4</td><td>220.0</td><td>obsend</td><td>348.9</td><td>387.2</td><td>347.5</td><td>134.9</td><td>bright</td><td>0.9</td><td>20210529</td><td>219.819</td><td>-0.718</td></tr>\n",
       "<tr><td>504</td><td>sv3</td><td>bright</td><td>bright</td><td>sv3bright</td><td>1</td><td>384.3</td><td>194.619</td><td>24.683</td><td>231.5</td><td>268.5</td><td>280.7</td><td>220.0</td><td>obsend</td><td>272.1</td><td>267.1</td><td>268.5</td><td>174.3</td><td>bright</td><td>0.9</td><td>20210529</td><td>194.619</td><td>24.683</td></tr>\n",
       "<tr><td>76</td><td>sv3</td><td>bright</td><td>bright</td><td>sv3bright</td><td>1</td><td>761.3</td><td>183.186</td><td>-0.083</td><td>225.2</td><td>283.0</td><td>297.0</td><td>220.0</td><td>obsend</td><td>284.5</td><td>281.2</td><td>283.0</td><td>184.0</td><td>bright</td><td>0.9</td><td>20210529</td><td>183.186</td><td>-0.083</td></tr>\n",
       "<tr><td>521</td><td>sv3</td><td>dark</td><td>dark</td><td>sv3dark</td><td>1</td><td>1378.7</td><td>212.891</td><td>-0.679</td><td>1211.8</td><td>1227.0</td><td>1196.3</td><td>1200.0</td><td>obsend</td><td>1285.5</td><td>1227.0</td><td>1209.1</td><td>1084.5</td><td>dark</td><td>0.9</td><td>20210610</td><td>212.891</td><td>-0.679</td></tr>\n",
       "</table></div>"
      ],
      "text/plain": [
       "<Table length=615>\n",
       "TILEID  SURVEY PROGRAM FAPRGRM  FAFLAVOR ... MINTFRAC LASTNIGHT    RA     DEC  \n",
       "int32  bytes20  bytes6 bytes20  bytes20  ... float64    int32   float64 float64\n",
       "------ ------- ------- ------- --------- ... -------- --------- ------- -------\n",
       " 80609     sv1    dark  lrgqso cmxlrgqso ...      0.9  20201217  150.12   2.206\n",
       " 80607     sv1    dark  lrgqso cmxlrgqso ...      0.9  20201219  106.74    56.1\n",
       " 80606     sv1    dark     elg    cmxelg ...      0.9  20201219  36.448  -4.501\n",
       " 80620     sv1    dark  lrgqso sv1lrgqso ...      0.9  20201221   144.0    65.0\n",
       " 80622     sv1    dark  lrgqso sv1lrgqso ...      0.9  20201221   155.0  32.325\n",
       " 80623     sv1    dark     elg    sv1elg ...      0.9  20201221   155.0  32.425\n",
       " 80611     sv1  bright  bgsmws sv1bgsmws ...      0.9  20201222   35.22    30.3\n",
       " 80617     sv1  bright  bgsmws sv1bgsmws ...      0.9  20201223     5.0    28.0\n",
       " 80608     sv1    dark     elg    cmxelg ...      0.9  20201223  106.74    56.2\n",
       " 80621     sv1    dark     elg    sv1elg ...      0.9  20201223   144.0    65.1\n",
       "   ...     ...     ...     ...       ... ...      ...       ...     ...     ...\n",
       "   595     sv3  bright  bright sv3bright ...      0.9  20210529 236.225  43.371\n",
       "   373     sv3  bright  bright sv3bright ...      0.9  20210529 245.832  43.335\n",
       "    49     sv3  bright  bright sv3bright ...      0.9  20210529 179.691  -0.078\n",
       "   184     sv3  bright  bright sv3bright ...      0.9  20210529 215.546  52.383\n",
       "   346     sv3  bright  bright sv3bright ...      0.9  20210529 241.016  43.333\n",
       "   400     sv3  bright  bright sv3bright ...      0.9  20210529 252.442   34.39\n",
       "   265     sv3  bright  bright sv3bright ...      0.9  20210529 219.819  -0.718\n",
       "   504     sv3  bright  bright sv3bright ...      0.9  20210529 194.619  24.683\n",
       "    76     sv3  bright  bright sv3bright ...      0.9  20210529 183.186  -0.083\n",
       "   521     sv3    dark    dark   sv3dark ...      0.9  20210610 212.891  -0.679"
      ]
     },
     "execution_count": 7,
     "metadata": {},
     "output_type": "execute_result"
    }
   ],
   "source": [
    "tiles_sv"
   ]
  },
  {
   "cell_type": "code",
   "execution_count": 8,
   "id": "d10d5f83-0847-4f96-8a9c-b0cf32611893",
   "metadata": {
    "tags": []
   },
   "outputs": [],
   "source": [
    "hpdirname = \"/global/cfs/cdirs/desi/target/catalogs/dr9/1.1.1/targets/main/resolve/dark\"\n",
    "main_dark = Table(read_targets_in_tiles(hpdirname, tiles=tiles_sv, quick=True))\n",
    "assert np.unique(main_dark[\"TARGETID\"]).size == len(main_dark)\n"
   ]
  },
  {
   "cell_type": "code",
   "execution_count": 9,
   "id": "094ef4ea-9b8a-4f96-bbcc-47140de412c4",
   "metadata": {
    "tags": []
   },
   "outputs": [],
   "source": [
    "hpdirname = \"/global/cfs/cdirs/desi/target/catalogs/dr9/1.1.1/targets/main/resolve/bright\"\n",
    "main_bright = Table(read_targets_in_tiles(hpdirname, tiles=tiles_sv, quick=True))\n",
    "assert np.unique(main_bright[\"TARGETID\"]).size == len(main_bright)"
   ]
  },
  {
   "cell_type": "code",
   "execution_count": 12,
   "id": "c6458ce0-2229-49fb-a549-51c40ec49729",
   "metadata": {
    "tags": []
   },
   "outputs": [
    {
     "name": "stdout",
     "output_type": "stream",
     "text": [
      "8039\n"
     ]
    }
   ],
   "source": [
    "in_dark = np.in1d(all_vi['TARGETID'], main_dark['TARGETID'])\n",
    "in_bright = np.in1d(all_vi['TARGETID'], main_bright['TARGETID'])\n",
    "print(np.count_nonzero(in_dark|in_bright))"
   ]
  },
  {
   "cell_type": "code",
   "execution_count": 23,
   "id": "d3451484-2452-429e-8626-f1f9c6ab2554",
   "metadata": {
    "tags": []
   },
   "outputs": [],
   "source": [
    "all_vi_in_main = all_vi[in_dark|in_bright]"
   ]
  },
  {
   "cell_type": "code",
   "execution_count": 25,
   "id": "90a9edd0-9121-4af0-944d-e0e9b7565572",
   "metadata": {
    "tags": []
   },
   "outputs": [],
   "source": [
    "all_vi_in_main.sort('TARGETID')"
   ]
  },
  {
   "cell_type": "code",
   "execution_count": 27,
   "id": "d4a78c74-26d8-456b-a2b8-256c81b2336b",
   "metadata": {
    "tags": []
   },
   "outputs": [
    {
     "data": {
      "text/html": [
       "<div><i>Table length=8039</i>\n",
       "<table id=\"table139912482659664\" class=\"table-striped table-bordered table-condensed\">\n",
       "<thead><tr><th>TARGETID</th><th>TILEID</th><th>FIBER</th><th>TARGET_RA</th><th>TARGET_DEC</th><th>VI_Z</th><th>VI_QUALITY</th><th>VI_SPECTYPE</th><th>SUFFIX</th></tr></thead>\n",
       "<thead><tr><th>int64</th><th>int64</th><th>int64</th><th>float64</th><th>float64</th><th>float64</th><th>float64</th><th>str6</th><th>str3</th></tr></thead>\n",
       "<tr><td>39627634551824898</td><td>80605</td><td>398</td><td>36.18946453136912</td><td>-6.149115843122294</td><td>0.355</td><td>4.0</td><td>GALAXY</td><td>LRG</td></tr>\n",
       "<tr><td>39627634556011094</td><td>80605</td><td>363</td><td>36.21608882431832</td><td>-6.128186295203432</td><td>1.394</td><td>3.0</td><td>QSO</td><td>QSO</td></tr>\n",
       "<tr><td>39627634556012263</td><td>80605</td><td>397</td><td>36.24615239723666</td><td>-6.138445768391183</td><td>1.5468</td><td>4.0</td><td>QSO</td><td>QSO</td></tr>\n",
       "<tr><td>39627634556014615</td><td>80605</td><td>478</td><td>36.304035269010576</td><td>-6.177153479731488</td><td>1.3637</td><td>3.0</td><td>QSO</td><td>QSO</td></tr>\n",
       "<tr><td>39627634556015764</td><td>80605</td><td>191</td><td>36.33448600336392</td><td>-6.150640067188368</td><td>0.7977</td><td>4.0</td><td>GALAXY</td><td>LRG</td></tr>\n",
       "<tr><td>39627634560205781</td><td>80605</td><td>466</td><td>36.48114966071196</td><td>-6.13055187981307</td><td>1.3499</td><td>4.0</td><td>QSO</td><td>QSO</td></tr>\n",
       "<tr><td>39627634560209346</td><td>80605</td><td>484</td><td>36.59674297649576</td><td>-6.154760155818011</td><td>0.7606</td><td>4.0</td><td>GALAXY</td><td>QSO</td></tr>\n",
       "<tr><td>39627634564402484</td><td>80605</td><td>311</td><td>36.81021305541879</td><td>-6.128079808810531</td><td>0.4328</td><td>4.0</td><td>GALAXY</td><td>LRG</td></tr>\n",
       "<tr><td>39627640549678023</td><td>80605</td><td>693</td><td>35.58220218605675</td><td>-5.893069788147125</td><td>0.5093</td><td>4.0</td><td>GALAXY</td><td>LRG</td></tr>\n",
       "<tr><td>39627640553867214</td><td>80605</td><td>513</td><td>35.70272688188581</td><td>-5.881259166293408</td><td>1.787</td><td>4.0</td><td>QSO</td><td>QSO</td></tr>\n",
       "<tr><td>...</td><td>...</td><td>...</td><td>...</td><td>...</td><td>...</td><td>...</td><td>...</td><td>...</td></tr>\n",
       "<tr><td>39633358174553091</td><td>80613</td><td>2662</td><td>106.88075142646083</td><td>57.6470882784608</td><td>0.0951</td><td>4.0</td><td>GALAXY</td><td>BGS</td></tr>\n",
       "<tr><td>39633358174553369</td><td>80613</td><td>2777</td><td>106.90834403263794</td><td>57.62550967378633</td><td>0.1444</td><td>4.0</td><td>GALAXY</td><td>BGS</td></tr>\n",
       "<tr><td>39633358174553485</td><td>80608</td><td>2767</td><td>106.91938476622713</td><td>57.6800247453919</td><td>0.8839</td><td>4.0</td><td>GALAXY</td><td>ELG</td></tr>\n",
       "<tr><td>39633358174554019</td><td>80613</td><td>2780</td><td>106.9737082958306</td><td>57.64927504875938</td><td>0.1416</td><td>4.0</td><td>GALAXY</td><td>BGS</td></tr>\n",
       "<tr><td>39633358174554274</td><td>80613</td><td>2667</td><td>106.9977976275232</td><td>57.6757809638242</td><td>0.1467</td><td>4.0</td><td>GALAXY</td><td>BGS</td></tr>\n",
       "<tr><td>39633358174556687</td><td>80607</td><td>2592</td><td>107.24818629605362</td><td>57.65346740559687</td><td>0.8804</td><td>4.0</td><td>GALAXY</td><td>QSO</td></tr>\n",
       "<tr><td>39633358178746900</td><td>80608</td><td>2575</td><td>107.30144618802598</td><td>57.73336145538772</td><td>0.9495</td><td>4.0</td><td>GALAXY</td><td>ELG</td></tr>\n",
       "<tr><td>39633358182940969</td><td>80608</td><td>3081</td><td>107.74758325371046</td><td>57.67082091101192</td><td>1.5739</td><td>4.0</td><td>GALAXY</td><td>ELG</td></tr>\n",
       "<tr><td>39633358182941239</td><td>80608</td><td>3058</td><td>107.77523605109538</td><td>57.655204249628845</td><td>0.8415</td><td>4.0</td><td>GALAXY</td><td>ELG</td></tr>\n",
       "<tr><td>39633358182941889</td><td>80608</td><td>3061</td><td>107.838690495398</td><td>57.62583481483741</td><td>1.2542</td><td>4.0</td><td>GALAXY</td><td>ELG</td></tr>\n",
       "</table></div>"
      ],
      "text/plain": [
       "<Table length=8039>\n",
       "     TARGETID     TILEID FIBER ... VI_QUALITY VI_SPECTYPE SUFFIX\n",
       "      int64       int64  int64 ...  float64       str6     str3 \n",
       "----------------- ------ ----- ... ---------- ----------- ------\n",
       "39627634551824898  80605   398 ...        4.0      GALAXY    LRG\n",
       "39627634556011094  80605   363 ...        3.0         QSO    QSO\n",
       "39627634556012263  80605   397 ...        4.0         QSO    QSO\n",
       "39627634556014615  80605   478 ...        3.0         QSO    QSO\n",
       "39627634556015764  80605   191 ...        4.0      GALAXY    LRG\n",
       "39627634560205781  80605   466 ...        4.0         QSO    QSO\n",
       "39627634560209346  80605   484 ...        4.0      GALAXY    QSO\n",
       "39627634564402484  80605   311 ...        4.0      GALAXY    LRG\n",
       "39627640549678023  80605   693 ...        4.0      GALAXY    LRG\n",
       "39627640553867214  80605   513 ...        4.0         QSO    QSO\n",
       "              ...    ...   ... ...        ...         ...    ...\n",
       "39633358174553091  80613  2662 ...        4.0      GALAXY    BGS\n",
       "39633358174553369  80613  2777 ...        4.0      GALAXY    BGS\n",
       "39633358174553485  80608  2767 ...        4.0      GALAXY    ELG\n",
       "39633358174554019  80613  2780 ...        4.0      GALAXY    BGS\n",
       "39633358174554274  80613  2667 ...        4.0      GALAXY    BGS\n",
       "39633358174556687  80607  2592 ...        4.0      GALAXY    QSO\n",
       "39633358178746900  80608  2575 ...        4.0      GALAXY    ELG\n",
       "39633358182940969  80608  3081 ...        4.0      GALAXY    ELG\n",
       "39633358182941239  80608  3058 ...        4.0      GALAXY    ELG\n",
       "39633358182941889  80608  3061 ...        4.0      GALAXY    ELG"
      ]
     },
     "execution_count": 27,
     "metadata": {},
     "output_type": "execute_result"
    }
   ],
   "source": [
    "all_vi_in_main"
   ]
  },
  {
   "cell_type": "code",
   "execution_count": 95,
   "id": "ac3a07ae-dfc3-44b0-afe2-1902fb2b080c",
   "metadata": {
    "tags": []
   },
   "outputs": [
    {
     "name": "stdout",
     "output_type": "stream",
     "text": [
      "/global/cfs/cdirs/desi/users/ioannis/fastspecfit/redrock-templates/stacks/redux-templates-NMF-0.1-zscan01/vitiles/\n",
      "/global/cfs/cdirs/desi/users/ioannis/fastspecfit/redrock-templates/stacks/redux-templates-NMF-0.2-zscan01/vitiles/\n",
      "/global/cfs/cdirs/desi/users/ioannis/fastspecfit/redrock-templates/stacks/redux-templates-NMF-0.3-zscan01/vitiles/\n",
      "/global/cfs/cdirs/desi/users/ioannis/fastspecfit/redrock-templates/stacks/redux-templates-NMF-0.4b-zscan01/vitiles/\n",
      "/global/cfs/cdirs/desi/users/ioannis/fastspecfit/redrock-templates/stacks/redux-templates-NMF-0.4-zscan01/vitiles/\n",
      "/global/cfs/cdirs/desi/users/ioannis/fastspecfit/redrock-templates/stacks/redux-templates-NMF-0.5b-zscan01/vitiles/\n",
      "/global/cfs/cdirs/desi/users/ioannis/fastspecfit/redrock-templates/stacks/redux-templates-NMF-0.5-zscan01/vitiles/\n",
      "/global/cfs/cdirs/desi/users/ioannis/fastspecfit/redrock-templates/stacks/redux-templates-PCA-0.1-zscan01/vitiles/\n",
      "/global/cfs/cdirs/desi/users/ioannis/fastspecfit/redrock-templates/stacks/redux-templates-PCA-0.2-zscan01/vitiles/\n"
     ]
    }
   ],
   "source": [
    "path_A = '/global/cfs/cdirs/desi/users/ioannis/fastspecfit/redrock-templates/stacks/redux-templates-iron/vitiles/'\n",
    "\n",
    "\n",
    "other_templates = ['redux-templates-NMF-0.1-zscan01',\n",
    "'redux-templates-NMF-0.2-zscan01',\n",
    "'redux-templates-NMF-0.3-zscan01',\n",
    "'redux-templates-NMF-0.4b-zscan01',\n",
    "'redux-templates-NMF-0.4-zscan01',\n",
    "'redux-templates-NMF-0.5b-zscan01',\n",
    "'redux-templates-NMF-0.5-zscan01',\n",
    "'redux-templates-PCA-0.1-zscan01',\n",
    "'redux-templates-PCA-0.2-zscan01']\n",
    "\n",
    "paths  = []\n",
    "\n",
    "for temp in other_templates:\n",
    "    tmp_path = '/global/cfs/cdirs/desi/users/ioannis/fastspecfit/redrock-templates/stacks/{}/vitiles/'.format(temp)\n",
    "    print(tmp_path)\n",
    "    paths.append(tmp_path)\n",
    "\n"
   ]
  },
  {
   "cell_type": "code",
   "execution_count": 93,
   "id": "8495a302-f025-4cd3-ad5a-f71b67f7939a",
   "metadata": {
    "tags": []
   },
   "outputs": [],
   "source": [
    "def gather_redrock_outputs(redrock_path):\n",
    "    zcatfiles = glob.glob(os.path.join(redrock_path,'zcat*.fits'))\n",
    "    zcat = vstack([Table(fitsio.read(zcatfile)) for zcatfile in zcatfiles])\n",
    "    return zcat"
   ]
  },
  {
   "cell_type": "code",
   "execution_count": 88,
   "id": "fe4cc04b-0fb5-4708-a348-933f1cac66cb",
   "metadata": {
    "tags": []
   },
   "outputs": [],
   "source": [
    "def precision_recall(redrock_path, all_vi_data_in_main):\n",
    "    labels = ['GALAXY', 'QSO', 'STAR']\n",
    "    zcat = gather_redrock_outputs(redrock_path)\n",
    "    in_truth = np.isin(zcat['TARGETID'], all_vi_data_in_main['TARGETID'])\n",
    "    zcat = zcat[in_truth]\n",
    "    zcat.sort('TARGETID')\n",
    "    assert np.unique(zcat['TARGETID']).size == len(zcat)\n",
    "    recall = sklearn.metrics.recall_score(all_vi_in_main['VI_SPECTYPE'], zcat['SPECTYPE'], average=None, labels=labels)\n",
    "    precision = sklearn.metrics.precision_score(all_vi_in_main['VI_SPECTYPE'], zcat['SPECTYPE'], average=None, labels=labels)\n",
    "    f1 = sklearn.metrics.f1_score(all_vi_in_main['VI_SPECTYPE'], zcat['SPECTYPE'], average=None, labels=labels)\n",
    "\n",
    "    return precision, recall, f1"
   ]
  },
  {
   "cell_type": "code",
   "execution_count": 98,
   "id": "d63ef028-b08f-441a-869d-7d1e551f964a",
   "metadata": {
    "tags": []
   },
   "outputs": [
    {
     "name": "stdout",
     "output_type": "stream",
     "text": [
      "(array([0.97316448, 0.98503937, 1.        ]), array([0.99706518, 0.9032491 , 0.75555556]), array([0.98496986, 0.94237288, 0.86075949]))\n"
     ]
    }
   ],
   "source": [
    "A = precision_recall(path_A, all_vi_in_main)\n",
    "print(A)"
   ]
  },
  {
   "cell_type": "code",
   "execution_count": 105,
   "id": "cf8020dd-70de-447f-8fc4-bdb0b5021818",
   "metadata": {
    "tags": []
   },
   "outputs": [
    {
     "name": "stdout",
     "output_type": "stream",
     "text": [
      "/global/cfs/cdirs/desi/users/ioannis/fastspecfit/redrock-templates/stacks/redux-templates-NMF-0.1-zscan01/vitiles/\n",
      "[-0.00071753  0.00239226  0.00883832]\n",
      "/global/cfs/cdirs/desi/users/ioannis/fastspecfit/redrock-templates/stacks/redux-templates-NMF-0.2-zscan01/vitiles/\n",
      "[0.00266135 0.00872665 0.0661277 ]\n",
      "/global/cfs/cdirs/desi/users/ioannis/fastspecfit/redrock-templates/stacks/redux-templates-NMF-0.3-zscan01/vitiles/\n",
      "[-0.18427579 -0.35723239 -0.20885594]\n",
      "/global/cfs/cdirs/desi/users/ioannis/fastspecfit/redrock-templates/stacks/redux-templates-NMF-0.4b-zscan01/vitiles/\n",
      "[0.00563295 0.01334203 0.11577354]\n",
      "/global/cfs/cdirs/desi/users/ioannis/fastspecfit/redrock-templates/stacks/redux-templates-NMF-0.4-zscan01/vitiles/\n",
      "[0.00620916 0.01370914 0.10856492]\n",
      "/global/cfs/cdirs/desi/users/ioannis/fastspecfit/redrock-templates/stacks/redux-templates-NMF-0.5b-zscan01/vitiles/\n",
      "[0.00632012 0.01794819 0.11261245]\n",
      "/global/cfs/cdirs/desi/users/ioannis/fastspecfit/redrock-templates/stacks/redux-templates-NMF-0.5-zscan01/vitiles/\n",
      "[-0.00353427 -0.04902188  0.04994472]\n",
      "/global/cfs/cdirs/desi/users/ioannis/fastspecfit/redrock-templates/stacks/redux-templates-PCA-0.1-zscan01/vitiles/\n",
      "[ 1.74258261e-03 -5.26760756e-05  7.69592552e-02]\n",
      "/global/cfs/cdirs/desi/users/ioannis/fastspecfit/redrock-templates/stacks/redux-templates-PCA-0.2-zscan01/vitiles/\n",
      "[0. 0. 0.]\n"
     ]
    },
    {
     "data": {
      "image/png": "[encoded data removed]",
      "text/plain": [
       "<Figure size 640x480 with 1 Axes>"
      ]
     },
     "metadata": {},
     "output_type": "display_data"
    }
   ],
   "source": [
    "for i, path in enumerate(paths):\n",
    "    print(path)\n",
    "    B = precision_recall(path, all_vi_in_main)\n",
    "    delta = B[2]-A[2]\n",
    "    print(delta)\n",
    "    plt.plot(np.ones(3)*i, delta)"
   ]
  },
  {
   "cell_type": "code",
   "execution_count": 100,
   "id": "884b12cc-8640-4089-bdf1-3c0337f5aa7b",
   "metadata": {
    "tags": []
   },
   "outputs": [
    {
     "data": {
      "text/plain": [
       "array([0.96893291, 0.98554217, 1.        ])"
      ]
     },
     "execution_count": 100,
     "metadata": {},
     "output_type": "execute_result"
    }
   ],
   "source": [
    "A[0]"
   ]
  },
  {
   "cell_type": "code",
   "execution_count": null,
   "id": "ef96fcf9-7bd4-4178-af5b-9671825dbbda",
   "metadata": {},
   "outputs": [],
   "source": []
  }
 ],
 "metadata": {
  "kernelspec": {
   "display_name": "DESI main",
   "language": "python",
   "name": "desi-main"
  },
  "language_info": {
   "codemirror_mode": {
    "name": "ipython",
    "version": 3
   },
   "file_extension": ".py",
   "mimetype": "text/x-python",
   "name": "python",
   "nbconvert_exporter": "python",
   "pygments_lexer": "ipython3",
   "version": "3.10.8"
  }
 },
 "nbformat": 4,
 "nbformat_minor": 5
}
