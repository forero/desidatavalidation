{
 "cells": [
  {
   "cell_type": "markdown",
   "id": "a5bd40ae-0f2a-47b6-a0e1-8908dba2024c",
   "metadata": {},
   "source": [
    "The goal of this notebook is to define traning, test and validation samples \n",
    "to implement new templates for redrock.\n",
    "\n",
    "Some of this work is based on the code by John Moustakas:\n",
    "https://github.com/moustakas/fastspecfit-projects/blob/main/redrock-templates/stack-templates#L146"
   ]
  },
  {
   "cell_type": "code",
   "execution_count": 1,
   "id": "4495ed42-e543-4368-b084-a0ab7c80855e",
   "metadata": {
    "tags": []
   },
   "outputs": [],
   "source": [
    "import numpy as np\n",
    "import matplotlib.pyplot as plt\n",
    "import os\n",
    "import fitsio\n",
    "from astropy.table import Table, Column, hstack, vstack, join\n",
    "from desiutil.log import get_logger#, DesiLogContext, WARNING\n",
    "log = get_logger()"
   ]
  },
  {
   "cell_type": "code",
   "execution_count": 2,
   "id": "79b07735-a951-4a06-ac9c-e04f0793fdd0",
   "metadata": {
    "tags": []
   },
   "outputs": [],
   "source": [
    "# The start of our parent sample is the LSS/Fuji SV3 VACs.\n",
    "#lss_path = '/global/cfs/cdirs/desi/public/edr/vac/edr/lss/v2.0/LSScats/full/'\n",
    "lss_path = '/global/cfs/cdirs/desi/users/ioannis/fastspecfit/redrock-templates/data/'\n",
    "obj_types = ['BGS_ANY', 'ELG', 'LRG', 'QSO']\n",
    "data_obj_types = {}\n",
    "for obj_type in obj_types:\n",
    "    filename = os.path.join(lss_path, 'lss-fuji-clustering-{}.fits'.format(obj_type))\n",
    "    data_obj_types[obj_type] = fitsio.read(filename)"
   ]
  },
  {
   "cell_type": "code",
   "execution_count": 3,
   "id": "8190061c-c00b-4a5d-a30b-51a364581ba4",
   "metadata": {
    "tags": []
   },
   "outputs": [
    {
     "data": {
      "text/plain": [
       "{'BGS_ANY': array([(212.0693219 , -2.12738748, 39627733927462296, 2, '526-532', 0.211606  , 0.71794872, 17, 1.69306496, 1.  , [-6619185046274324457,  5644941744155000570], 0.5390625, 1., 1.84285714,  9.05734  , 15.408153, 21.32641 , 15.873154,  8.951791, 0.37905745, -0.11455412, 0.08326221, 0.06507243, 0.27399339, 0.36795281, -0.20525782, -0.10825782, -19.66851915, 0.01500877, 0.00980848),\n",
       "        (212.07182231, -2.15763669, 39627733927462346, 1, '532', 0.20832115, 0.52272727, 17, 1.71934147, 0.25, [ -989607087401000204,  1761888357241395716], 0.3828125, 1., 2.58      ,  6.474439 , 16.908474, 31.81137 , 29.158867, 23.750439, 0.78568303,  0.00860345, 0.26517582, 0.23774067, 0.5980229 , 0.68197316, -0.20207152, -0.10507152, -19.85455668, 0.01528615, 0.00963221),\n",
       "        (212.11374994, -2.18257701, 39627733927463205, 1, '532', 0.2731814 , 0.52272727, 17, 1.72487145, 1.  , [                  -1,                   -1], 1.       , 1., 1.        ,  4.68452  ,  8.546944, 13.930914, 18.279089, 17.096151, 0.32473568, -0.150346  , 0.17778278, 0.02081237, 0.35221655, 0.32146027, -0.26498596, -0.16798596, -19.61986347, 0.01082985, 0.01354203),\n",
       "        ...,\n",
       "        (270.55016032, 67.63720293, 39633470523180473, 2, '420-423', 0.29843272, 0.7826087 , 15, 1.64905164, 0.5 , [                  -1,                   -1], 1.       , 1., 1.        ,  4.1077127, 15.783607, 30.209482, 29.867838, 18.345253, 0.90458461,  0.16269645, 0.71962726, 0.38967535, 1.09570808, 0.7554827 , -0.28947974, -0.19247974, -20.81887467, 0.00741686, 0.01957823),\n",
       "        (270.63685931, 67.6276357 , 39633470523181032, 2, '420-423', 0.23417191, 0.7826087 , 15, 1.64673166, 1.  , [                  -1,                   -1], 1.       , 1., 1.        ,  9.226576 , 35.10401 , 72.17478 , 89.46729 , 62.899128, 1.04294343,  0.09886104, 0.50670801, 0.33728426, 0.91108007, 0.8769946 , -0.22714675, -0.13014675, -21.02320465, 0.01331267, 0.01100299),\n",
       "        (270.65594693, 67.68230181, 39633470523181151, 1, '420', 0.17557427, 0.4516129 , 15, 1.7016421 , 1.  , [                  -1,                   -1], 1.       , 1., 1.        , 12.846812 , 24.879322, 38.472836, 39.99025 , 29.231972, 0.58296256, -0.06173739, 0.07290946, 0.15158927, 0.33116237, 0.53803631, -0.17030705, -0.07330705, -19.79098216, 0.01786157, 0.00822384)],\n",
       "       dtype=[('RA', '>f8'), ('DEC', '>f8'), ('TARGETID', '>i8'), ('NTILE', '>i8'), ('TILES', '<U43'), ('Z', '>f8'), ('COMP_TILE', '>f8'), ('ROSETTE_NUMBER', '>i4'), ('ROSETTE_R', '>f8'), ('FRACZ_TILELOCID', '>f8'), ('BITWEIGHTS', '>i8', (2,)), ('PROB_OBS', '>f8'), ('WEIGHT_ZFAIL', '>f8'), ('WEIGHT', '>f8'), ('FLUX_G_DERED', '>f4'), ('FLUX_R_DERED', '>f4'), ('FLUX_Z_DERED', '>f4'), ('FLUX_W1_DERED', '>f4'), ('FLUX_W2_DERED', '>f4'), ('REST_GMR_0P1', '>f8'), ('KCORR_R0P1', '>f8'), ('KCORR_G0P1', '>f8'), ('KCORR_R0P0', '>f8'), ('KCORR_G0P0', '>f8'), ('REST_GMR_0P0', '>f8'), ('EQ_ALL_0P0', '>f8'), ('EQ_ALL_0P1', '>f8'), ('ABSMAG_R', '>f8'), ('NZ', '>f8'), ('WEIGHT_FKP', '>f8')]),\n",
       " 'ELG': array([(219.80218891, -2.4041206 , 39627728017687857, 1, '469', 1.14248688, 0.19444444,  9, 1.80412192, 0.125     , [   81064827652539416,     9025892026171392], 0.09375  , 1., 9.92307692, 0.00076516, 0.26777218),\n",
       "        (219.86310496, -2.38081631, 39627728017689426, 1, '469', 0.79312597, 0.19444444,  9, 1.78193321, 0.16666667, [                  -1,                   -1], 1.       , 1., 1.        , 0.00093169, 0.23096502),\n",
       "        (219.86344037, -2.43714115, 39627728017689437, 1, '469', 1.01772692, 0.19444444,  9, 1.83823533, 0.16666667, [-4466367685171994240,  4648418502931447904], 0.2109375, 1., 4.60714286, 0.00095221, 0.22711718),\n",
       "        ...,\n",
       "        (270.55009452, 67.67451364, 39633470523180472, 1, '415', 0.73817722, 0.5       , 15, 1.68560395, 1.        , [-5064825777927116090,   142760881207285222], 0.5      , 1., 1.98461538, 0.00062794, 0.30464181),\n",
       "        (270.59159899, 67.65277501, 39633470523180756, 2, '412-439', 0.97259138, 0.52173913, 15, 1.66753769, 0.33333333, [                  -1,                   -1], 1.       , 1., 1.        , 0.00110009, 0.20004802),\n",
       "        (270.71217373, 67.63749951, 39633470523181530, 1, '439', 1.49794774, 0.27488152, 15, 1.66297488, 0.33333333, [-7903754048249820839, -8302349628095937108], 0.3671875, 1., 2.6875    , 0.00028761, 0.48889016)],\n",
       "       dtype=[('RA', '>f8'), ('DEC', '>f8'), ('TARGETID', '>i8'), ('NTILE', '>i8'), ('TILES', '<U51'), ('Z', '>f8'), ('COMP_TILE', '>f8'), ('ROSETTE_NUMBER', '>i4'), ('ROSETTE_R', '>f8'), ('FRACZ_TILELOCID', '>f8'), ('BITWEIGHTS', '>i8', (2,)), ('PROB_OBS', '>f8'), ('WEIGHT_ZFAIL', '>f8'), ('WEIGHT', '>f8'), ('NZ', '>f8'), ('WEIGHT_FKP', '>f8')]),\n",
       " 'LRG': array([(219.67667901, -2.37830074, 39627728013496446, 1, '469', 0.66447781, 0.52941176,  9, 1.78256839, 0.33333333, [ 7017382533337992306,  1659622659761450530], 0.328125, 1., 3.        , 0.00070071, 0.12894716),\n",
       "        (219.70951682, -2.38784036, 39627728013497219, 1, '469', 0.89684494, 0.52941176,  9, 1.79012684, 1.        , [                  -1,                   -1], 1.      , 1., 1.        , 0.00052756, 0.16431404),\n",
       "        (219.82703527, -2.4442964 , 39627728017688475, 1, '469', 0.53839792, 0.52941176,  9, 1.84449438, 0.33333333, [ 4831257921014993587,  3675113717604877583], 0.390625, 1., 2.52941176, 0.00070451, 0.12834041),\n",
       "        ...,\n",
       "        (270.38672583, 67.66081741, 39633470523179398, 3, '407-415-439', 0.81655223, 0.72727273, 15, 1.66099775, 0.25      , [ 7267398931199652909, -6541480725558896142], 0.609375, 1., 1.63291139, 0.00076253, 0.1194667 ),\n",
       "        (270.41594886, 67.71328532, 39633470523179608, 1, '439', 1.01154648, 0.58974359, 15, 1.71456915, 0.5       , [                  -1,                   -1], 1.      , 1., 1.        , 0.0002013 , 0.33947278),\n",
       "        (270.44954147, 67.7798912 , 39633470523179833, 1, '439', 0.65274868, 0.58974359, 15, 1.78235849, 1.        , [                  -1,                   -1], 1.      , 1., 1.        , 0.0006371 , 0.13970161)],\n",
       "       dtype=[('RA', '>f8'), ('DEC', '>f8'), ('TARGETID', '>i8'), ('NTILE', '>i8'), ('TILES', '<U51'), ('Z', '>f8'), ('COMP_TILE', '>f8'), ('ROSETTE_NUMBER', '>i4'), ('ROSETTE_R', '>f8'), ('FRACZ_TILELOCID', '>f8'), ('BITWEIGHTS', '>i8', (2,)), ('PROB_OBS', '>f8'), ('WEIGHT_ZFAIL', '>f8'), ('WEIGHT', '>f8'), ('NZ', '>f8'), ('WEIGHT_FKP', '>f8')]),\n",
       " 'QSO': array([(219.64603426, -2.41286189, 39627728013495704, 1, '469', 2.06352569, 0.64516129,  9, 1.81938322, 1. , [-1, -1], 1., 1., 1., 2.32159887e-05, 0.87834919),\n",
       "        (219.72238504, -2.43481346, 39627728013497533, 1, '469', 2.05661922, 0.64516129,  9, 1.83645304, 0.5, [-1, -1], 1., 1., 1., 2.32159887e-05, 0.87834919),\n",
       "        (219.78544266, -2.44570885, 39627728017687466, 1, '469', 1.12474527, 0.64516129,  9, 1.84576621, 1. , [-1, -1], 1., 1., 1., 3.29436672e-05, 0.83574888),\n",
       "        ...,\n",
       "        (270.13972737, 67.70564746, 39633470518987202, 1, '439', 2.90097388, 0.734375  , 15, 1.69330869, 1. , [-1, -1], 1., 1., 1., 6.11746774e-06, 0.96481868),\n",
       "        (270.14297659, 67.66788988, 39633470518987225, 3, '409-412-439', 1.71084908, 1.        , 15, 1.65586301, 1. , [-1, -1], 1., 1., 1., 3.12806940e-05, 0.84284785),\n",
       "        (270.31215362, 67.6720116 , 39633470518988188, 1, '415', 1.78498498, 0.8       , 15, 1.66777584, 1. , [-1, -1], 1., 1., 1., 3.37294315e-05, 0.8326049 )],\n",
       "       dtype=[('RA', '>f8'), ('DEC', '>f8'), ('TARGETID', '>i8'), ('NTILE', '>i8'), ('TILES', '<U51'), ('Z', '>f8'), ('COMP_TILE', '>f8'), ('ROSETTE_NUMBER', '>i4'), ('ROSETTE_R', '>f8'), ('FRACZ_TILELOCID', '>f8'), ('BITWEIGHTS', '>i8', (2,)), ('PROB_OBS', '>f8'), ('WEIGHT_ZFAIL', '>f8'), ('WEIGHT', '>f8'), ('NZ', '>f8'), ('WEIGHT_FKP', '>f8')])}"
      ]
     },
     "execution_count": 3,
     "metadata": {},
     "output_type": "execute_result"
    }
   ],
   "source": [
    "data_obj_types"
   ]
  },
  {
   "cell_type": "code",
   "execution_count": 4,
   "id": "ab228c00-24a2-4a6d-8cdb-c2c783bb38f8",
   "metadata": {
    "tags": []
   },
   "outputs": [],
   "source": [
    "# read the vi files\n",
    "# https://github.com/moustakas/fastspecfit-projects/blob/main/redrock-templates/stack-templates#L158C1-L182C17\n",
    "def read_vi(vi_spectype=None, quality=2.5):\n",
    "    # see https://data.desi.lbl.gov/doc/releases/edr/vac/vi/\n",
    "    from glob import glob\n",
    "    #vifiles = glob('/global/cfs/cdirs/desi/public/edr/vac/edr/vi/v1.0/*.csv')\n",
    "    allvi = []\n",
    "    for targ in ['BGS', 'LRG', 'ELG', 'QSO']:\n",
    "        vifile = f'/global/cfs/cdirs/desi/public/edr/vac/edr/vi/v1.0/EDR_VI_{targ}_v1.csv'\n",
    "        vi = Table.read(vifile)\n",
    "        vi['SUFFIX'] = targ # os.path.basename(vifile).replace('EDR_VI_', '').replace('_v1.csv', '')\n",
    "        allvi.append(vi)\n",
    "    allvi = vstack(allvi)\n",
    "    I = np.where(allvi['VI_QUALITY'] >= quality)[0]\n",
    "    log.info(f'Trimming to {len(I):,d}/{len(allvi):,d} VI redshifts.')\n",
    "    allvi = allvi[I]\n",
    "\n",
    "    _, uindx = np.unique(allvi['TARGETID'], return_index=True)\n",
    "    log.info(f'Trimming to {len(uindx):,d}/{len(allvi):,d} unique targets.')\n",
    "    allvi = allvi[uindx]\n",
    "\n",
    "    if vi_spectype:\n",
    "        I = allvi['VI_SPECTYPE'] == vi_spectype\n",
    "        log.info(f'Trimming to {np.sum(I):,d}/{len(allvi):,d} objects with VI_SPECTYPE={vi_spectype}.')\n",
    "        allvi = allvi[I]\n",
    "    \n",
    "    return allvi"
   ]
  },
  {
   "cell_type": "code",
   "execution_count": 5,
   "id": "46682603-1b86-4cbb-9643-5aaf3ee187d6",
   "metadata": {
    "tags": []
   },
   "outputs": [
    {
     "name": "stdout",
     "output_type": "stream",
     "text": [
      "INFO:272848714.py:15:read_vi: Trimming to 17,275/20,373 VI redshifts.\n",
      "INFO:272848714.py:19:read_vi: Trimming to 17,083/17,275 unique targets.\n"
     ]
    }
   ],
   "source": [
    "all_vi = read_vi()\n",
    "assert np.unique(all_vi[\"TARGETID\"]).size == len(all_vi)"
   ]
  },
  {
   "cell_type": "code",
   "execution_count": 6,
   "id": "35456964-d4c0-4fbe-aef1-06eb1e652243",
   "metadata": {
    "tags": []
   },
   "outputs": [
    {
     "data": {
      "text/html": [
       "<div><i>Table length=17083</i>\n",
       "<table id=\"table139895705126656\" class=\"table-striped table-bordered table-condensed\">\n",
       "<thead><tr><th>TARGETID</th><th>TILEID</th><th>FIBER</th><th>TARGET_RA</th><th>TARGET_DEC</th><th>VI_Z</th><th>VI_QUALITY</th><th>VI_SPECTYPE</th><th>SUFFIX</th></tr></thead>\n",
       "<thead><tr><th>int64</th><th>int64</th><th>int64</th><th>float64</th><th>float64</th><th>float64</th><th>float64</th><th>str6</th><th>str3</th></tr></thead>\n",
       "<tr><td>39627634551824898</td><td>80605</td><td>398</td><td>36.18946453136912</td><td>-6.149115843122294</td><td>0.355</td><td>4.0</td><td>GALAXY</td><td>LRG</td></tr>\n",
       "<tr><td>39627634556011094</td><td>80605</td><td>363</td><td>36.21608882431832</td><td>-6.128186295203432</td><td>1.394</td><td>3.0</td><td>QSO</td><td>QSO</td></tr>\n",
       "<tr><td>39627634556012263</td><td>80605</td><td>397</td><td>36.24615239723666</td><td>-6.138445768391183</td><td>1.5468</td><td>4.0</td><td>QSO</td><td>QSO</td></tr>\n",
       "<tr><td>39627634556014086</td><td>80605</td><td>353</td><td>36.291054274191865</td><td>-6.127697503907206</td><td>0.6555</td><td>4.0</td><td>GALAXY</td><td>LRG</td></tr>\n",
       "<tr><td>39627634556014615</td><td>80605</td><td>478</td><td>36.304035269010576</td><td>-6.177153479731488</td><td>1.3637</td><td>3.0</td><td>QSO</td><td>QSO</td></tr>\n",
       "<tr><td>39627634556015764</td><td>80605</td><td>191</td><td>36.33448600336392</td><td>-6.150640067188368</td><td>0.7977</td><td>4.0</td><td>GALAXY</td><td>LRG</td></tr>\n",
       "<tr><td>39627634556017139</td><td>80605</td><td>495</td><td>36.3744308172597</td><td>-6.156238417732969</td><td>2.4982</td><td>3.0</td><td>QSO</td><td>LRG</td></tr>\n",
       "<tr><td>39627634556018800</td><td>80605</td><td>485</td><td>36.41882485753472</td><td>-6.197608931100611</td><td>0.6995</td><td>3.5</td><td>GALAXY</td><td>LRG</td></tr>\n",
       "<tr><td>39627634556019665</td><td>80605</td><td>491</td><td>36.44302732645025</td><td>-6.136826390991546</td><td>0.97</td><td>3.5</td><td>GALAXY</td><td>LRG</td></tr>\n",
       "<tr><td>39627634560204882</td><td>80605</td><td>470</td><td>36.453097295455294</td><td>-6.2106461593070765</td><td>0.7218</td><td>4.0</td><td>GALAXY</td><td>LRG</td></tr>\n",
       "<tr><td>...</td><td>...</td><td>...</td><td>...</td><td>...</td><td>...</td><td>...</td><td>...</td><td>...</td></tr>\n",
       "<tr><td>39633358178746588</td><td>80608</td><td>2567</td><td>107.27045035943</td><td>57.70798933126338</td><td>1.4216</td><td>4.0</td><td>GALAXY</td><td>ELG</td></tr>\n",
       "<tr><td>39633358178746900</td><td>80608</td><td>2575</td><td>107.30144618802598</td><td>57.73336145538772</td><td>0.9495</td><td>4.0</td><td>GALAXY</td><td>ELG</td></tr>\n",
       "<tr><td>39633358178750288</td><td>80608</td><td>3085</td><td>107.6549444729083</td><td>57.63819493753839</td><td>0.7135</td><td>4.0</td><td>GALAXY</td><td>ELG</td></tr>\n",
       "<tr><td>39633358178750779</td><td>80608</td><td>3054</td><td>107.70741958781193</td><td>57.70485367322424</td><td>1.2367</td><td>4.0</td><td>GALAXY</td><td>ELG</td></tr>\n",
       "<tr><td>39633358182940823</td><td>80608</td><td>3063</td><td>107.73175643527748</td><td>57.64597154135247</td><td>1.5398</td><td>3.0</td><td>GALAXY</td><td>ELG</td></tr>\n",
       "<tr><td>39633358182940969</td><td>80608</td><td>3081</td><td>107.74758325371046</td><td>57.67082091101192</td><td>1.5739</td><td>4.0</td><td>GALAXY</td><td>ELG</td></tr>\n",
       "<tr><td>39633358182941239</td><td>80608</td><td>3058</td><td>107.77523605109538</td><td>57.655204249628845</td><td>0.8415</td><td>4.0</td><td>GALAXY</td><td>ELG</td></tr>\n",
       "<tr><td>39633358182941889</td><td>80608</td><td>3061</td><td>107.838690495398</td><td>57.62583481483741</td><td>1.2542</td><td>4.0</td><td>GALAXY</td><td>ELG</td></tr>\n",
       "<tr><td>39633358182942015</td><td>80608</td><td>3089</td><td>107.8535704668016</td><td>57.65073234771371</td><td>-0.0001</td><td>4.0</td><td>STAR</td><td>ELG</td></tr>\n",
       "<tr><td>39633358182943569</td><td>80608</td><td>3092</td><td>108.00187512185153</td><td>57.63018735770802</td><td>0.7367</td><td>4.0</td><td>GALAXY</td><td>ELG</td></tr>\n",
       "</table></div>"
      ],
      "text/plain": [
       "<Table length=17083>\n",
       "     TARGETID     TILEID FIBER ... VI_QUALITY VI_SPECTYPE SUFFIX\n",
       "      int64       int64  int64 ...  float64       str6     str3 \n",
       "----------------- ------ ----- ... ---------- ----------- ------\n",
       "39627634551824898  80605   398 ...        4.0      GALAXY    LRG\n",
       "39627634556011094  80605   363 ...        3.0         QSO    QSO\n",
       "39627634556012263  80605   397 ...        4.0         QSO    QSO\n",
       "39627634556014086  80605   353 ...        4.0      GALAXY    LRG\n",
       "39627634556014615  80605   478 ...        3.0         QSO    QSO\n",
       "39627634556015764  80605   191 ...        4.0      GALAXY    LRG\n",
       "39627634556017139  80605   495 ...        3.0         QSO    LRG\n",
       "39627634556018800  80605   485 ...        3.5      GALAXY    LRG\n",
       "39627634556019665  80605   491 ...        3.5      GALAXY    LRG\n",
       "39627634560204882  80605   470 ...        4.0      GALAXY    LRG\n",
       "              ...    ...   ... ...        ...         ...    ...\n",
       "39633358178746588  80608  2567 ...        4.0      GALAXY    ELG\n",
       "39633358178746900  80608  2575 ...        4.0      GALAXY    ELG\n",
       "39633358178750288  80608  3085 ...        4.0      GALAXY    ELG\n",
       "39633358178750779  80608  3054 ...        4.0      GALAXY    ELG\n",
       "39633358182940823  80608  3063 ...        3.0      GALAXY    ELG\n",
       "39633358182940969  80608  3081 ...        4.0      GALAXY    ELG\n",
       "39633358182941239  80608  3058 ...        4.0      GALAXY    ELG\n",
       "39633358182941889  80608  3061 ...        4.0      GALAXY    ELG\n",
       "39633358182942015  80608  3089 ...        4.0        STAR    ELG\n",
       "39633358182943569  80608  3092 ...        4.0      GALAXY    ELG"
      ]
     },
     "execution_count": 6,
     "metadata": {},
     "output_type": "execute_result"
    }
   ],
   "source": [
    "all_vi"
   ]
  },
  {
   "cell_type": "code",
   "execution_count": 7,
   "id": "961a2a63-c0cf-45c0-93cf-bcc6b372f9fb",
   "metadata": {
    "tags": []
   },
   "outputs": [
    {
     "data": {
      "text/plain": [
       "<matplotlib.collections.PathCollection at 0x7f3bd100e5c0>"
      ]
     },
     "execution_count": 7,
     "metadata": {},
     "output_type": "execute_result"
    },
    {
     "data": {
      "image/png": "[encoded data removed]",
      "text/plain": [
       "<Figure size 640x480 with 1 Axes>"
      ]
     },
     "metadata": {},
     "output_type": "display_data"
    }
   ],
   "source": [
    "plt.scatter(all_vi['TARGET_RA'], all_vi['TARGET_DEC'])"
   ]
  },
  {
   "cell_type": "code",
   "execution_count": 8,
   "id": "6e0a0d19-dea9-4c74-8029-e6b626d25c91",
   "metadata": {},
   "outputs": [
    {
     "data": {
      "text/plain": [
       "set"
      ]
     },
     "execution_count": 8,
     "metadata": {},
     "output_type": "execute_result"
    }
   ],
   "source": [
    "set"
   ]
  },
  {
   "cell_type": "code",
   "execution_count": 9,
   "id": "f1e30f52-3b83-48f9-b4eb-9215a25a8e4b",
   "metadata": {
    "tags": []
   },
   "outputs": [],
   "source": [
    "tiles_edr = Table.read('/global/cfs/cdirs/desi/public/edr/spectro/redux/fuji/tiles-fuji.fits')"
   ]
  },
  {
   "cell_type": "code",
   "execution_count": 10,
   "id": "3e5bae18-6dd7-48ff-876d-4f795af83596",
   "metadata": {
    "tags": []
   },
   "outputs": [
    {
     "data": {
      "text/html": [
       "<div><i>Table length=732</i>\n",
       "<table id=\"table139894887070640\" class=\"table-striped table-bordered table-condensed\">\n",
       "<thead><tr><th>TILEID</th><th>SURVEY</th><th>PROGRAM</th><th>FAPRGRM</th><th>FAFLAVOR</th><th>NEXP</th><th>EXPTIME</th><th>TILERA</th><th>TILEDEC</th><th>EFFTIME_ETC</th><th>EFFTIME_SPEC</th><th>EFFTIME_GFA</th><th>GOALTIME</th><th>OBSSTATUS</th><th>LRG_EFFTIME_DARK</th><th>ELG_EFFTIME_DARK</th><th>BGS_EFFTIME_BRIGHT</th><th>LYA_EFFTIME_DARK</th><th>GOALTYPE</th><th>MINTFRAC</th><th>LASTNIGHT</th></tr></thead>\n",
       "<thead><tr><th>int32</th><th>bytes20</th><th>bytes6</th><th>bytes20</th><th>bytes20</th><th>int64</th><th>float64</th><th>float64</th><th>float64</th><th>float64</th><th>float64</th><th>float64</th><th>float64</th><th>bytes20</th><th>float64</th><th>float64</th><th>float64</th><th>float64</th><th>bytes20</th><th>float64</th><th>int32</th></tr></thead>\n",
       "<tr><td>80615</td><td>cmx</td><td>other</td><td>m33</td><td>cmxm33</td><td>4</td><td>3600.1</td><td>24.027</td><td>31.39</td><td>0.0</td><td>3390.9</td><td>0.0</td><td>1000.0</td><td>obsend</td><td>3361.7</td><td>3390.9</td><td>3320.2</td><td>3878.6</td><td>other</td><td>0.9</td><td>20201216</td></tr>\n",
       "<tr><td>80609</td><td>sv1</td><td>dark</td><td>lrgqso</td><td>cmxlrgqso</td><td>15</td><td>13500.7</td><td>150.12</td><td>2.206</td><td>0.0</td><td>7828.3</td><td>0.0</td><td>4000.0</td><td>obsstart</td><td>7847.0</td><td>7828.3</td><td>8057.3</td><td>10707.3</td><td>dark</td><td>0.9</td><td>20201217</td></tr>\n",
       "<tr><td>80607</td><td>sv1</td><td>dark</td><td>lrgqso</td><td>cmxlrgqso</td><td>15</td><td>13500.8</td><td>106.74</td><td>56.1</td><td>0.0</td><td>9374.2</td><td>0.0</td><td>4000.0</td><td>obsstart</td><td>8794.6</td><td>9374.2</td><td>8553.9</td><td>8541.1</td><td>dark</td><td>0.9</td><td>20201219</td></tr>\n",
       "<tr><td>80606</td><td>sv1</td><td>dark</td><td>elg</td><td>cmxelg</td><td>12</td><td>10800.7</td><td>36.448</td><td>-4.501</td><td>0.0</td><td>6699.4</td><td>0.0</td><td>4000.0</td><td>obsstart</td><td>6555.6</td><td>6699.4</td><td>6583.6</td><td>7397.5</td><td>dark</td><td>0.9</td><td>20201219</td></tr>\n",
       "<tr><td>80620</td><td>sv1</td><td>dark</td><td>lrgqso</td><td>sv1lrgqso</td><td>9</td><td>8100.5</td><td>144.0</td><td>65.0</td><td>0.0</td><td>7128.7</td><td>0.0</td><td>4000.0</td><td>obsstart</td><td>6643.9</td><td>7128.7</td><td>6299.8</td><td>6316.1</td><td>dark</td><td>0.9</td><td>20201221</td></tr>\n",
       "<tr><td>80622</td><td>sv1</td><td>dark</td><td>lrgqso</td><td>sv1lrgqso</td><td>6</td><td>5400.3</td><td>155.0</td><td>32.325</td><td>0.0</td><td>4916.9</td><td>0.0</td><td>4000.0</td><td>obsstart</td><td>4772.1</td><td>4916.9</td><td>4739.8</td><td>6935.4</td><td>dark</td><td>0.9</td><td>20201221</td></tr>\n",
       "<tr><td>80623</td><td>sv1</td><td>dark</td><td>elg</td><td>sv1elg</td><td>8</td><td>7200.4</td><td>155.0</td><td>32.425</td><td>0.0</td><td>4969.7</td><td>0.0</td><td>4000.0</td><td>obsstart</td><td>4903.1</td><td>4969.7</td><td>4916.9</td><td>7266.2</td><td>dark</td><td>0.9</td><td>20201221</td></tr>\n",
       "<tr><td>80611</td><td>sv1</td><td>bright</td><td>bgsmws</td><td>sv1bgsmws</td><td>12</td><td>3600.9</td><td>35.22</td><td>30.3</td><td>0.0</td><td>669.2</td><td>0.0</td><td>600.0</td><td>obsstart</td><td>641.1</td><td>723.7</td><td>669.2</td><td>407.7</td><td>bright</td><td>0.9</td><td>20201222</td></tr>\n",
       "<tr><td>80617</td><td>sv1</td><td>bright</td><td>bgsmws</td><td>sv1bgsmws</td><td>16</td><td>4801.0</td><td>5.0</td><td>28.0</td><td>0.0</td><td>1309.5</td><td>0.0</td><td>600.0</td><td>obsstart</td><td>1251.7</td><td>1369.7</td><td>1309.5</td><td>884.1</td><td>bright</td><td>0.9</td><td>20201223</td></tr>\n",
       "<tr><td>80608</td><td>sv1</td><td>dark</td><td>elg</td><td>cmxelg</td><td>23</td><td>20701.4</td><td>106.74</td><td>56.2</td><td>0.0</td><td>15166.0</td><td>0.0</td><td>4000.0</td><td>obsstart</td><td>14236.7</td><td>15166.0</td><td>13797.6</td><td>14267.9</td><td>dark</td><td>0.9</td><td>20201223</td></tr>\n",
       "<tr><td>...</td><td>...</td><td>...</td><td>...</td><td>...</td><td>...</td><td>...</td><td>...</td><td>...</td><td>...</td><td>...</td><td>...</td><td>...</td><td>...</td><td>...</td><td>...</td><td>...</td><td>...</td><td>...</td><td>...</td><td>...</td></tr>\n",
       "<tr><td>49</td><td>sv3</td><td>bright</td><td>bright</td><td>sv3bright</td><td>1</td><td>1050.9</td><td>179.691</td><td>-0.078</td><td>222.5</td><td>285.3</td><td>283.0</td><td>220.0</td><td>obsend</td><td>280.4</td><td>275.4</td><td>285.3</td><td>175.2</td><td>bright</td><td>0.9</td><td>20210529</td></tr>\n",
       "<tr><td>184</td><td>sv3</td><td>bright</td><td>bright</td><td>sv3bright</td><td>1</td><td>389.1</td><td>215.546</td><td>52.383</td><td>226.9</td><td>250.7</td><td>271.7</td><td>220.0</td><td>obsend</td><td>250.8</td><td>264.9</td><td>250.7</td><td>182.6</td><td>bright</td><td>0.9</td><td>20210529</td></tr>\n",
       "<tr><td>346</td><td>sv3</td><td>bright</td><td>bright</td><td>sv3bright</td><td>1</td><td>1146.0</td><td>241.016</td><td>43.333</td><td>220.6</td><td>341.0</td><td>306.9</td><td>220.0</td><td>obsend</td><td>347.9</td><td>386.0</td><td>341.0</td><td>152.8</td><td>bright</td><td>0.9</td><td>20210529</td></tr>\n",
       "<tr><td>400</td><td>sv3</td><td>bright</td><td>bright</td><td>sv3bright</td><td>1</td><td>939.0</td><td>252.442</td><td>34.39</td><td>223.2</td><td>324.4</td><td>290.9</td><td>220.0</td><td>obsend</td><td>330.7</td><td>368.8</td><td>324.4</td><td>157.6</td><td>bright</td><td>0.9</td><td>20210529</td></tr>\n",
       "<tr><td>265</td><td>sv3</td><td>bright</td><td>bright</td><td>sv3bright</td><td>2</td><td>2180.0</td><td>219.819</td><td>-0.718</td><td>222.2</td><td>347.5</td><td>319.4</td><td>220.0</td><td>obsend</td><td>348.9</td><td>387.2</td><td>347.5</td><td>134.9</td><td>bright</td><td>0.9</td><td>20210529</td></tr>\n",
       "<tr><td>596</td><td>sv3</td><td>backup</td><td>backup</td><td>sv3backup</td><td>1</td><td>142.2</td><td>236.1</td><td>43.57</td><td>68.5</td><td>84.5</td><td>107.8</td><td>30.0</td><td>obsend</td><td>77.8</td><td>82.3</td><td>80.6</td><td>43.6</td><td>backup</td><td>0.9</td><td>20210529</td></tr>\n",
       "<tr><td>402</td><td>sv3</td><td>backup</td><td>backup</td><td>sv3backup</td><td>1</td><td>345.6</td><td>252.362</td><td>34.538</td><td>61.2</td><td>81.6</td><td>79.9</td><td>30.0</td><td>obsend</td><td>98.8</td><td>109.3</td><td>99.5</td><td>34.8</td><td>backup</td><td>0.9</td><td>20210529</td></tr>\n",
       "<tr><td>504</td><td>sv3</td><td>bright</td><td>bright</td><td>sv3bright</td><td>1</td><td>384.3</td><td>194.619</td><td>24.683</td><td>231.5</td><td>268.5</td><td>280.7</td><td>220.0</td><td>obsend</td><td>272.1</td><td>267.1</td><td>268.5</td><td>174.3</td><td>bright</td><td>0.9</td><td>20210529</td></tr>\n",
       "<tr><td>76</td><td>sv3</td><td>bright</td><td>bright</td><td>sv3bright</td><td>1</td><td>761.3</td><td>183.186</td><td>-0.083</td><td>225.2</td><td>283.0</td><td>297.0</td><td>220.0</td><td>obsend</td><td>284.5</td><td>281.2</td><td>283.0</td><td>184.0</td><td>bright</td><td>0.9</td><td>20210529</td></tr>\n",
       "<tr><td>521</td><td>sv3</td><td>dark</td><td>dark</td><td>sv3dark</td><td>1</td><td>1378.7</td><td>212.891</td><td>-0.679</td><td>1211.8</td><td>1227.0</td><td>1196.3</td><td>1200.0</td><td>obsend</td><td>1285.5</td><td>1227.0</td><td>1209.1</td><td>1084.5</td><td>dark</td><td>0.9</td><td>20210610</td></tr>\n",
       "</table></div>"
      ],
      "text/plain": [
       "<Table length=732>\n",
       "TILEID  SURVEY PROGRAM FAPRGRM ... LYA_EFFTIME_DARK GOALTYPE MINTFRAC LASTNIGHT\n",
       "int32  bytes20  bytes6 bytes20 ...     float64      bytes20  float64    int32  \n",
       "------ ------- ------- ------- ... ---------------- -------- -------- ---------\n",
       " 80615     cmx   other     m33 ...           3878.6    other      0.9  20201216\n",
       " 80609     sv1    dark  lrgqso ...          10707.3     dark      0.9  20201217\n",
       " 80607     sv1    dark  lrgqso ...           8541.1     dark      0.9  20201219\n",
       " 80606     sv1    dark     elg ...           7397.5     dark      0.9  20201219\n",
       " 80620     sv1    dark  lrgqso ...           6316.1     dark      0.9  20201221\n",
       " 80622     sv1    dark  lrgqso ...           6935.4     dark      0.9  20201221\n",
       " 80623     sv1    dark     elg ...           7266.2     dark      0.9  20201221\n",
       " 80611     sv1  bright  bgsmws ...            407.7   bright      0.9  20201222\n",
       " 80617     sv1  bright  bgsmws ...            884.1   bright      0.9  20201223\n",
       " 80608     sv1    dark     elg ...          14267.9     dark      0.9  20201223\n",
       "   ...     ...     ...     ... ...              ...      ...      ...       ...\n",
       "    49     sv3  bright  bright ...            175.2   bright      0.9  20210529\n",
       "   184     sv3  bright  bright ...            182.6   bright      0.9  20210529\n",
       "   346     sv3  bright  bright ...            152.8   bright      0.9  20210529\n",
       "   400     sv3  bright  bright ...            157.6   bright      0.9  20210529\n",
       "   265     sv3  bright  bright ...            134.9   bright      0.9  20210529\n",
       "   596     sv3  backup  backup ...             43.6   backup      0.9  20210529\n",
       "   402     sv3  backup  backup ...             34.8   backup      0.9  20210529\n",
       "   504     sv3  bright  bright ...            174.3   bright      0.9  20210529\n",
       "    76     sv3  bright  bright ...            184.0   bright      0.9  20210529\n",
       "   521     sv3    dark    dark ...           1084.5     dark      0.9  20210610"
      ]
     },
     "execution_count": 10,
     "metadata": {},
     "output_type": "execute_result"
    }
   ],
   "source": [
    "tiles_edr"
   ]
  },
  {
   "cell_type": "code",
   "execution_count": 11,
   "id": "9440ef4b-d4ac-464e-830c-3e4ab630a88b",
   "metadata": {
    "tags": []
   },
   "outputs": [],
   "source": [
    "tiles_sv = tiles_edr[((tiles_edr['SURVEY']=='sv3')|(tiles_edr['SURVEY']=='sv1'))&(tiles_edr['PROGRAM']!='backup')]\n",
    "tiles_sv['RA'], tiles_sv['DEC'] = tiles_sv['TILERA'], tiles_sv['TILEDEC']"
   ]
  },
  {
   "cell_type": "code",
   "execution_count": 12,
   "id": "20d14ac2-e205-4618-8f19-414ad1f0749b",
   "metadata": {
    "tags": []
   },
   "outputs": [
    {
     "data": {
      "text/html": [
       "<div><i>Table length=615</i>\n",
       "<table id=\"table139894887071552\" class=\"table-striped table-bordered table-condensed\">\n",
       "<thead><tr><th>TILEID</th><th>SURVEY</th><th>PROGRAM</th><th>FAPRGRM</th><th>FAFLAVOR</th><th>NEXP</th><th>EXPTIME</th><th>TILERA</th><th>TILEDEC</th><th>EFFTIME_ETC</th><th>EFFTIME_SPEC</th><th>EFFTIME_GFA</th><th>GOALTIME</th><th>OBSSTATUS</th><th>LRG_EFFTIME_DARK</th><th>ELG_EFFTIME_DARK</th><th>BGS_EFFTIME_BRIGHT</th><th>LYA_EFFTIME_DARK</th><th>GOALTYPE</th><th>MINTFRAC</th><th>LASTNIGHT</th><th>RA</th><th>DEC</th></tr></thead>\n",
       "<thead><tr><th>int32</th><th>bytes20</th><th>bytes6</th><th>bytes20</th><th>bytes20</th><th>int64</th><th>float64</th><th>float64</th><th>float64</th><th>float64</th><th>float64</th><th>float64</th><th>float64</th><th>bytes20</th><th>float64</th><th>float64</th><th>float64</th><th>float64</th><th>bytes20</th><th>float64</th><th>int32</th><th>float64</th><th>float64</th></tr></thead>\n",
       "<tr><td>80609</td><td>sv1</td><td>dark</td><td>lrgqso</td><td>cmxlrgqso</td><td>15</td><td>13500.7</td><td>150.12</td><td>2.206</td><td>0.0</td><td>7828.3</td><td>0.0</td><td>4000.0</td><td>obsstart</td><td>7847.0</td><td>7828.3</td><td>8057.3</td><td>10707.3</td><td>dark</td><td>0.9</td><td>20201217</td><td>150.12</td><td>2.206</td></tr>\n",
       "<tr><td>80607</td><td>sv1</td><td>dark</td><td>lrgqso</td><td>cmxlrgqso</td><td>15</td><td>13500.8</td><td>106.74</td><td>56.1</td><td>0.0</td><td>9374.2</td><td>0.0</td><td>4000.0</td><td>obsstart</td><td>8794.6</td><td>9374.2</td><td>8553.9</td><td>8541.1</td><td>dark</td><td>0.9</td><td>20201219</td><td>106.74</td><td>56.1</td></tr>\n",
       "<tr><td>80606</td><td>sv1</td><td>dark</td><td>elg</td><td>cmxelg</td><td>12</td><td>10800.7</td><td>36.448</td><td>-4.501</td><td>0.0</td><td>6699.4</td><td>0.0</td><td>4000.0</td><td>obsstart</td><td>6555.6</td><td>6699.4</td><td>6583.6</td><td>7397.5</td><td>dark</td><td>0.9</td><td>20201219</td><td>36.448</td><td>-4.501</td></tr>\n",
       "<tr><td>80620</td><td>sv1</td><td>dark</td><td>lrgqso</td><td>sv1lrgqso</td><td>9</td><td>8100.5</td><td>144.0</td><td>65.0</td><td>0.0</td><td>7128.7</td><td>0.0</td><td>4000.0</td><td>obsstart</td><td>6643.9</td><td>7128.7</td><td>6299.8</td><td>6316.1</td><td>dark</td><td>0.9</td><td>20201221</td><td>144.0</td><td>65.0</td></tr>\n",
       "<tr><td>80622</td><td>sv1</td><td>dark</td><td>lrgqso</td><td>sv1lrgqso</td><td>6</td><td>5400.3</td><td>155.0</td><td>32.325</td><td>0.0</td><td>4916.9</td><td>0.0</td><td>4000.0</td><td>obsstart</td><td>4772.1</td><td>4916.9</td><td>4739.8</td><td>6935.4</td><td>dark</td><td>0.9</td><td>20201221</td><td>155.0</td><td>32.325</td></tr>\n",
       "<tr><td>80623</td><td>sv1</td><td>dark</td><td>elg</td><td>sv1elg</td><td>8</td><td>7200.4</td><td>155.0</td><td>32.425</td><td>0.0</td><td>4969.7</td><td>0.0</td><td>4000.0</td><td>obsstart</td><td>4903.1</td><td>4969.7</td><td>4916.9</td><td>7266.2</td><td>dark</td><td>0.9</td><td>20201221</td><td>155.0</td><td>32.425</td></tr>\n",
       "<tr><td>80611</td><td>sv1</td><td>bright</td><td>bgsmws</td><td>sv1bgsmws</td><td>12</td><td>3600.9</td><td>35.22</td><td>30.3</td><td>0.0</td><td>669.2</td><td>0.0</td><td>600.0</td><td>obsstart</td><td>641.1</td><td>723.7</td><td>669.2</td><td>407.7</td><td>bright</td><td>0.9</td><td>20201222</td><td>35.22</td><td>30.3</td></tr>\n",
       "<tr><td>80617</td><td>sv1</td><td>bright</td><td>bgsmws</td><td>sv1bgsmws</td><td>16</td><td>4801.0</td><td>5.0</td><td>28.0</td><td>0.0</td><td>1309.5</td><td>0.0</td><td>600.0</td><td>obsstart</td><td>1251.7</td><td>1369.7</td><td>1309.5</td><td>884.1</td><td>bright</td><td>0.9</td><td>20201223</td><td>5.0</td><td>28.0</td></tr>\n",
       "<tr><td>80608</td><td>sv1</td><td>dark</td><td>elg</td><td>cmxelg</td><td>23</td><td>20701.4</td><td>106.74</td><td>56.2</td><td>0.0</td><td>15166.0</td><td>0.0</td><td>4000.0</td><td>obsstart</td><td>14236.7</td><td>15166.0</td><td>13797.6</td><td>14267.9</td><td>dark</td><td>0.9</td><td>20201223</td><td>106.74</td><td>56.2</td></tr>\n",
       "<tr><td>80621</td><td>sv1</td><td>dark</td><td>elg</td><td>sv1elg</td><td>10</td><td>9000.5</td><td>144.0</td><td>65.1</td><td>0.0</td><td>4425.7</td><td>0.0</td><td>4000.0</td><td>obsstart</td><td>4120.5</td><td>4425.7</td><td>3976.4</td><td>3583.6</td><td>dark</td><td>0.9</td><td>20201223</td><td>144.0</td><td>65.1</td></tr>\n",
       "<tr><td>...</td><td>...</td><td>...</td><td>...</td><td>...</td><td>...</td><td>...</td><td>...</td><td>...</td><td>...</td><td>...</td><td>...</td><td>...</td><td>...</td><td>...</td><td>...</td><td>...</td><td>...</td><td>...</td><td>...</td><td>...</td><td>...</td><td>...</td></tr>\n",
       "<tr><td>595</td><td>sv3</td><td>bright</td><td>bright</td><td>sv3bright</td><td>1</td><td>1009.5</td><td>236.225</td><td>43.371</td><td>225.0</td><td>337.6</td><td>289.4</td><td>220.0</td><td>obsend</td><td>345.9</td><td>387.6</td><td>337.6</td><td>154.6</td><td>bright</td><td>0.9</td><td>20210529</td><td>236.225</td><td>43.371</td></tr>\n",
       "<tr><td>373</td><td>sv3</td><td>bright</td><td>bright</td><td>sv3bright</td><td>1</td><td>1117.0</td><td>245.832</td><td>43.335</td><td>224.0</td><td>337.6</td><td>302.5</td><td>220.0</td><td>obsend</td><td>344.7</td><td>382.5</td><td>337.6</td><td>152.5</td><td>bright</td><td>0.9</td><td>20210529</td><td>245.832</td><td>43.335</td></tr>\n",
       "<tr><td>49</td><td>sv3</td><td>bright</td><td>bright</td><td>sv3bright</td><td>1</td><td>1050.9</td><td>179.691</td><td>-0.078</td><td>222.5</td><td>285.3</td><td>283.0</td><td>220.0</td><td>obsend</td><td>280.4</td><td>275.4</td><td>285.3</td><td>175.2</td><td>bright</td><td>0.9</td><td>20210529</td><td>179.691</td><td>-0.078</td></tr>\n",
       "<tr><td>184</td><td>sv3</td><td>bright</td><td>bright</td><td>sv3bright</td><td>1</td><td>389.1</td><td>215.546</td><td>52.383</td><td>226.9</td><td>250.7</td><td>271.7</td><td>220.0</td><td>obsend</td><td>250.8</td><td>264.9</td><td>250.7</td><td>182.6</td><td>bright</td><td>0.9</td><td>20210529</td><td>215.546</td><td>52.383</td></tr>\n",
       "<tr><td>346</td><td>sv3</td><td>bright</td><td>bright</td><td>sv3bright</td><td>1</td><td>1146.0</td><td>241.016</td><td>43.333</td><td>220.6</td><td>341.0</td><td>306.9</td><td>220.0</td><td>obsend</td><td>347.9</td><td>386.0</td><td>341.0</td><td>152.8</td><td>bright</td><td>0.9</td><td>20210529</td><td>241.016</td><td>43.333</td></tr>\n",
       "<tr><td>400</td><td>sv3</td><td>bright</td><td>bright</td><td>sv3bright</td><td>1</td><td>939.0</td><td>252.442</td><td>34.39</td><td>223.2</td><td>324.4</td><td>290.9</td><td>220.0</td><td>obsend</td><td>330.7</td><td>368.8</td><td>324.4</td><td>157.6</td><td>bright</td><td>0.9</td><td>20210529</td><td>252.442</td><td>34.39</td></tr>\n",
       "<tr><td>265</td><td>sv3</td><td>bright</td><td>bright</td><td>sv3bright</td><td>2</td><td>2180.0</td><td>219.819</td><td>-0.718</td><td>222.2</td><td>347.5</td><td>319.4</td><td>220.0</td><td>obsend</td><td>348.9</td><td>387.2</td><td>347.5</td><td>134.9</td><td>bright</td><td>0.9</td><td>20210529</td><td>219.819</td><td>-0.718</td></tr>\n",
       "<tr><td>504</td><td>sv3</td><td>bright</td><td>bright</td><td>sv3bright</td><td>1</td><td>384.3</td><td>194.619</td><td>24.683</td><td>231.5</td><td>268.5</td><td>280.7</td><td>220.0</td><td>obsend</td><td>272.1</td><td>267.1</td><td>268.5</td><td>174.3</td><td>bright</td><td>0.9</td><td>20210529</td><td>194.619</td><td>24.683</td></tr>\n",
       "<tr><td>76</td><td>sv3</td><td>bright</td><td>bright</td><td>sv3bright</td><td>1</td><td>761.3</td><td>183.186</td><td>-0.083</td><td>225.2</td><td>283.0</td><td>297.0</td><td>220.0</td><td>obsend</td><td>284.5</td><td>281.2</td><td>283.0</td><td>184.0</td><td>bright</td><td>0.9</td><td>20210529</td><td>183.186</td><td>-0.083</td></tr>\n",
       "<tr><td>521</td><td>sv3</td><td>dark</td><td>dark</td><td>sv3dark</td><td>1</td><td>1378.7</td><td>212.891</td><td>-0.679</td><td>1211.8</td><td>1227.0</td><td>1196.3</td><td>1200.0</td><td>obsend</td><td>1285.5</td><td>1227.0</td><td>1209.1</td><td>1084.5</td><td>dark</td><td>0.9</td><td>20210610</td><td>212.891</td><td>-0.679</td></tr>\n",
       "</table></div>"
      ],
      "text/plain": [
       "<Table length=615>\n",
       "TILEID  SURVEY PROGRAM FAPRGRM  FAFLAVOR ... MINTFRAC LASTNIGHT    RA     DEC  \n",
       "int32  bytes20  bytes6 bytes20  bytes20  ... float64    int32   float64 float64\n",
       "------ ------- ------- ------- --------- ... -------- --------- ------- -------\n",
       " 80609     sv1    dark  lrgqso cmxlrgqso ...      0.9  20201217  150.12   2.206\n",
       " 80607     sv1    dark  lrgqso cmxlrgqso ...      0.9  20201219  106.74    56.1\n",
       " 80606     sv1    dark     elg    cmxelg ...      0.9  20201219  36.448  -4.501\n",
       " 80620     sv1    dark  lrgqso sv1lrgqso ...      0.9  20201221   144.0    65.0\n",
       " 80622     sv1    dark  lrgqso sv1lrgqso ...      0.9  20201221   155.0  32.325\n",
       " 80623     sv1    dark     elg    sv1elg ...      0.9  20201221   155.0  32.425\n",
       " 80611     sv1  bright  bgsmws sv1bgsmws ...      0.9  20201222   35.22    30.3\n",
       " 80617     sv1  bright  bgsmws sv1bgsmws ...      0.9  20201223     5.0    28.0\n",
       " 80608     sv1    dark     elg    cmxelg ...      0.9  20201223  106.74    56.2\n",
       " 80621     sv1    dark     elg    sv1elg ...      0.9  20201223   144.0    65.1\n",
       "   ...     ...     ...     ...       ... ...      ...       ...     ...     ...\n",
       "   595     sv3  bright  bright sv3bright ...      0.9  20210529 236.225  43.371\n",
       "   373     sv3  bright  bright sv3bright ...      0.9  20210529 245.832  43.335\n",
       "    49     sv3  bright  bright sv3bright ...      0.9  20210529 179.691  -0.078\n",
       "   184     sv3  bright  bright sv3bright ...      0.9  20210529 215.546  52.383\n",
       "   346     sv3  bright  bright sv3bright ...      0.9  20210529 241.016  43.333\n",
       "   400     sv3  bright  bright sv3bright ...      0.9  20210529 252.442   34.39\n",
       "   265     sv3  bright  bright sv3bright ...      0.9  20210529 219.819  -0.718\n",
       "   504     sv3  bright  bright sv3bright ...      0.9  20210529 194.619  24.683\n",
       "    76     sv3  bright  bright sv3bright ...      0.9  20210529 183.186  -0.083\n",
       "   521     sv3    dark    dark   sv3dark ...      0.9  20210610 212.891  -0.679"
      ]
     },
     "execution_count": 12,
     "metadata": {},
     "output_type": "execute_result"
    }
   ],
   "source": [
    "tiles_sv"
   ]
  },
  {
   "cell_type": "code",
   "execution_count": 14,
   "id": "cf2faf07-b3c6-4efc-8a6d-cd451f43d8eb",
   "metadata": {
    "tags": []
   },
   "outputs": [
    {
     "name": "stdout",
     "output_type": "stream",
     "text": [
      "1\n",
      "1\n",
      "1\n",
      "1\n",
      "1\n",
      "1\n",
      "1\n",
      "1\n"
     ]
    }
   ],
   "source": [
    "tileid_vi = list(set(all_vi[\"TILEID\"]))\n",
    "tilera_vi = []\n",
    "tiledec_vi = []\n",
    "for tileid in tileid_vi:\n",
    "    ii = tiles_edr['TILEID']==tileid\n",
    "    tilera_vi.append(float(tiles_edr['TILERA'][ii]))\n",
    "    tiledec_vi.append(float(tiles_edr['TILEDEC'][ii]))\n",
    "    print(np.count_nonzero(ii))\n",
    "    "
   ]
  },
  {
   "cell_type": "code",
   "execution_count": 15,
   "id": "be0a4ff0-0814-4f2a-b77e-fe72d207999b",
   "metadata": {
    "tags": []
   },
   "outputs": [],
   "source": [
    "tiles_vi = Table()\n",
    "tiles_vi[\"TILEID\"], tiles_vi[\"RA\"], tiles_vi[\"DEC\"] = tileid_vi, tilera_vi, tiledec_vi"
   ]
  },
  {
   "cell_type": "code",
   "execution_count": 16,
   "id": "2180b044-9f92-4295-a9e4-f8bdd8bb87f3",
   "metadata": {
    "tags": []
   },
   "outputs": [
    {
     "data": {
      "text/html": [
       "<div><i>Table length=8</i>\n",
       "<table id=\"table139895708088496\" class=\"table-striped table-bordered table-condensed\">\n",
       "<thead><tr><th>TILEID</th><th>RA</th><th>DEC</th></tr></thead>\n",
       "<thead><tr><th>int64</th><th>float64</th><th>float64</th></tr></thead>\n",
       "<tr><td>80608</td><td>106.74</td><td>56.2</td></tr>\n",
       "<tr><td>80609</td><td>150.12</td><td>2.206</td></tr>\n",
       "<tr><td>80610</td><td>150.12</td><td>2.306</td></tr>\n",
       "<tr><td>80613</td><td>106.74</td><td>56.1</td></tr>\n",
       "<tr><td>80670</td><td>38.0</td><td>-2.8</td></tr>\n",
       "<tr><td>80605</td><td>36.448</td><td>-4.601</td></tr>\n",
       "<tr><td>80606</td><td>36.448</td><td>-4.501</td></tr>\n",
       "<tr><td>80607</td><td>106.74</td><td>56.1</td></tr>\n",
       "</table></div>"
      ],
      "text/plain": [
       "<Table length=8>\n",
       "TILEID    RA     DEC  \n",
       "int64  float64 float64\n",
       "------ ------- -------\n",
       " 80608  106.74    56.2\n",
       " 80609  150.12   2.206\n",
       " 80610  150.12   2.306\n",
       " 80613  106.74    56.1\n",
       " 80670    38.0    -2.8\n",
       " 80605  36.448  -4.601\n",
       " 80606  36.448  -4.501\n",
       " 80607  106.74    56.1"
      ]
     },
     "execution_count": 16,
     "metadata": {},
     "output_type": "execute_result"
    }
   ],
   "source": [
    "tiles_vi"
   ]
  },
  {
   "cell_type": "code",
   "execution_count": 17,
   "id": "f38c77c1-55a4-4929-9356-bb31a43cdb65",
   "metadata": {
    "tags": []
   },
   "outputs": [
    {
     "data": {
      "text/html": [
       "<div><i>Table length=8</i>\n",
       "<table id=\"table139894876491872\" class=\"table-striped table-bordered table-condensed\">\n",
       "<thead><tr><th>TILEID</th><th>SURVEY</th><th>PROGRAM</th><th>FAPRGRM</th><th>FAFLAVOR</th><th>NEXP</th><th>EXPTIME</th><th>TILERA</th><th>TILEDEC</th><th>EFFTIME_ETC</th><th>EFFTIME_SPEC</th><th>EFFTIME_GFA</th><th>GOALTIME</th><th>OBSSTATUS</th><th>LRG_EFFTIME_DARK</th><th>ELG_EFFTIME_DARK</th><th>BGS_EFFTIME_BRIGHT</th><th>LYA_EFFTIME_DARK</th><th>GOALTYPE</th><th>MINTFRAC</th><th>LASTNIGHT</th><th>RA</th><th>DEC</th></tr></thead>\n",
       "<thead><tr><th>int32</th><th>bytes20</th><th>bytes6</th><th>bytes20</th><th>bytes20</th><th>int64</th><th>float64</th><th>float64</th><th>float64</th><th>float64</th><th>float64</th><th>float64</th><th>float64</th><th>bytes20</th><th>float64</th><th>float64</th><th>float64</th><th>float64</th><th>bytes20</th><th>float64</th><th>int32</th><th>float64</th><th>float64</th></tr></thead>\n",
       "<tr><td>80609</td><td>sv1</td><td>dark</td><td>lrgqso</td><td>cmxlrgqso</td><td>15</td><td>13500.7</td><td>150.12</td><td>2.206</td><td>0.0</td><td>7828.3</td><td>0.0</td><td>4000.0</td><td>obsstart</td><td>7847.0</td><td>7828.3</td><td>8057.3</td><td>10707.3</td><td>dark</td><td>0.9</td><td>20201217</td><td>150.12</td><td>2.206</td></tr>\n",
       "<tr><td>80607</td><td>sv1</td><td>dark</td><td>lrgqso</td><td>cmxlrgqso</td><td>15</td><td>13500.8</td><td>106.74</td><td>56.1</td><td>0.0</td><td>9374.2</td><td>0.0</td><td>4000.0</td><td>obsstart</td><td>8794.6</td><td>9374.2</td><td>8553.9</td><td>8541.1</td><td>dark</td><td>0.9</td><td>20201219</td><td>106.74</td><td>56.1</td></tr>\n",
       "<tr><td>80606</td><td>sv1</td><td>dark</td><td>elg</td><td>cmxelg</td><td>12</td><td>10800.7</td><td>36.448</td><td>-4.501</td><td>0.0</td><td>6699.4</td><td>0.0</td><td>4000.0</td><td>obsstart</td><td>6555.6</td><td>6699.4</td><td>6583.6</td><td>7397.5</td><td>dark</td><td>0.9</td><td>20201219</td><td>36.448</td><td>-4.501</td></tr>\n",
       "<tr><td>80608</td><td>sv1</td><td>dark</td><td>elg</td><td>cmxelg</td><td>23</td><td>20701.4</td><td>106.74</td><td>56.2</td><td>0.0</td><td>15166.0</td><td>0.0</td><td>4000.0</td><td>obsstart</td><td>14236.7</td><td>15166.0</td><td>13797.6</td><td>14267.9</td><td>dark</td><td>0.9</td><td>20201223</td><td>106.74</td><td>56.2</td></tr>\n",
       "<tr><td>80670</td><td>sv1</td><td>dark</td><td>lrgqso</td><td>sv1lrgqso</td><td>6</td><td>5327.9</td><td>38.0</td><td>-2.8</td><td>0.0</td><td>1904.8</td><td>0.0</td><td>4000.0</td><td>obsstart</td><td>1827.9</td><td>1904.8</td><td>1858.2</td><td>1721.0</td><td>dark</td><td>0.9</td><td>20210111</td><td>38.0</td><td>-2.8</td></tr>\n",
       "<tr><td>80605</td><td>sv1</td><td>dark</td><td>lrgqso</td><td>cmxlrgqso</td><td>24</td><td>19559.1</td><td>36.448</td><td>-4.601</td><td>0.0</td><td>6872.9</td><td>0.0</td><td>4000.0</td><td>obsstart</td><td>6711.4</td><td>6872.9</td><td>6890.6</td><td>6824.3</td><td>dark</td><td>0.9</td><td>20210205</td><td>36.448</td><td>-4.601</td></tr>\n",
       "<tr><td>80610</td><td>sv1</td><td>dark</td><td>elg</td><td>cmxelg</td><td>16</td><td>13955.7</td><td>150.12</td><td>2.306</td><td>0.0</td><td>9523.2</td><td>0.0</td><td>4000.0</td><td>obsend</td><td>9378.1</td><td>9523.2</td><td>9373.5</td><td>10559.9</td><td>dark</td><td>0.9</td><td>20210208</td><td>150.12</td><td>2.306</td></tr>\n",
       "<tr><td>80613</td><td>sv1</td><td>bright</td><td>bgsmws</td><td>sv1bgsmws</td><td>30</td><td>10975.0</td><td>106.74</td><td>56.1</td><td>0.0</td><td>3049.3</td><td>0.0</td><td>600.0</td><td>obsend</td><td>2967.4</td><td>3359.9</td><td>3049.3</td><td>2016.8</td><td>bright</td><td>0.9</td><td>20210324</td><td>106.74</td><td>56.1</td></tr>\n",
       "</table></div>"
      ],
      "text/plain": [
       "<Table length=8>\n",
       "TILEID  SURVEY PROGRAM FAPRGRM  FAFLAVOR ... MINTFRAC LASTNIGHT    RA     DEC  \n",
       "int32  bytes20  bytes6 bytes20  bytes20  ... float64    int32   float64 float64\n",
       "------ ------- ------- ------- --------- ... -------- --------- ------- -------\n",
       " 80609     sv1    dark  lrgqso cmxlrgqso ...      0.9  20201217  150.12   2.206\n",
       " 80607     sv1    dark  lrgqso cmxlrgqso ...      0.9  20201219  106.74    56.1\n",
       " 80606     sv1    dark     elg    cmxelg ...      0.9  20201219  36.448  -4.501\n",
       " 80608     sv1    dark     elg    cmxelg ...      0.9  20201223  106.74    56.2\n",
       " 80670     sv1    dark  lrgqso sv1lrgqso ...      0.9  20210111    38.0    -2.8\n",
       " 80605     sv1    dark  lrgqso cmxlrgqso ...      0.9  20210205  36.448  -4.601\n",
       " 80610     sv1    dark     elg    cmxelg ...      0.9  20210208  150.12   2.306\n",
       " 80613     sv1  bright  bgsmws sv1bgsmws ...      0.9  20210324  106.74    56.1"
      ]
     },
     "execution_count": 17,
     "metadata": {},
     "output_type": "execute_result"
    }
   ],
   "source": [
    "tiles_sv[np.isin(tiles_sv['TILEID'], tiles_vi['TILEID'])]"
   ]
  },
  {
   "cell_type": "code",
   "execution_count": 18,
   "id": "d174b32f-876b-475c-8ad7-21e15b5ca6a0",
   "metadata": {
    "tags": []
   },
   "outputs": [],
   "source": [
    "ii_high = ((tiles_sv['EFFTIME_SPEC']/tiles_sv['GOALTIME'])>2.0)&(tiles_sv['PROGRAM']!='other')\n",
    "ii_high = ((tiles_sv['EFFTIME_SPEC']/tiles_sv['GOALTIME'])>1.5)&(tiles_sv['NEXP']>10)&(tiles_sv['PROGRAM']!='other')\n",
    "tiles_high_efftime = tiles_sv[ii_high]\n",
    "tiles_high_efftime.sort('TILEID')"
   ]
  },
  {
   "cell_type": "code",
   "execution_count": 19,
   "id": "e9a83798-963f-44d3-9b62-c4c2cbc7068e",
   "metadata": {
    "tags": []
   },
   "outputs": [
    {
     "data": {
      "text/html": [
       "<div><i>Table length=36</i>\n",
       "<table id=\"table139894887528768\" class=\"table-striped table-bordered table-condensed\">\n",
       "<thead><tr><th>TILEID</th><th>SURVEY</th><th>PROGRAM</th><th>FAPRGRM</th><th>FAFLAVOR</th><th>NEXP</th><th>EXPTIME</th><th>TILERA</th><th>TILEDEC</th><th>EFFTIME_ETC</th><th>EFFTIME_SPEC</th><th>EFFTIME_GFA</th><th>GOALTIME</th><th>OBSSTATUS</th><th>LRG_EFFTIME_DARK</th><th>ELG_EFFTIME_DARK</th><th>BGS_EFFTIME_BRIGHT</th><th>LYA_EFFTIME_DARK</th><th>GOALTYPE</th><th>MINTFRAC</th><th>LASTNIGHT</th><th>RA</th><th>DEC</th></tr></thead>\n",
       "<thead><tr><th>int32</th><th>bytes20</th><th>bytes6</th><th>bytes20</th><th>bytes20</th><th>int64</th><th>float64</th><th>float64</th><th>float64</th><th>float64</th><th>float64</th><th>float64</th><th>float64</th><th>bytes20</th><th>float64</th><th>float64</th><th>float64</th><th>float64</th><th>bytes20</th><th>float64</th><th>int32</th><th>float64</th><th>float64</th></tr></thead>\n",
       "<tr><td>80605</td><td>sv1</td><td>dark</td><td>lrgqso</td><td>cmxlrgqso</td><td>24</td><td>19559.1</td><td>36.448</td><td>-4.601</td><td>0.0</td><td>6872.9</td><td>0.0</td><td>4000.0</td><td>obsstart</td><td>6711.4</td><td>6872.9</td><td>6890.6</td><td>6824.3</td><td>dark</td><td>0.9</td><td>20210205</td><td>36.448</td><td>-4.601</td></tr>\n",
       "<tr><td>80606</td><td>sv1</td><td>dark</td><td>elg</td><td>cmxelg</td><td>12</td><td>10800.7</td><td>36.448</td><td>-4.501</td><td>0.0</td><td>6699.4</td><td>0.0</td><td>4000.0</td><td>obsstart</td><td>6555.6</td><td>6699.4</td><td>6583.6</td><td>7397.5</td><td>dark</td><td>0.9</td><td>20201219</td><td>36.448</td><td>-4.501</td></tr>\n",
       "<tr><td>80607</td><td>sv1</td><td>dark</td><td>lrgqso</td><td>cmxlrgqso</td><td>15</td><td>13500.8</td><td>106.74</td><td>56.1</td><td>0.0</td><td>9374.2</td><td>0.0</td><td>4000.0</td><td>obsstart</td><td>8794.6</td><td>9374.2</td><td>8553.9</td><td>8541.1</td><td>dark</td><td>0.9</td><td>20201219</td><td>106.74</td><td>56.1</td></tr>\n",
       "<tr><td>80608</td><td>sv1</td><td>dark</td><td>elg</td><td>cmxelg</td><td>23</td><td>20701.4</td><td>106.74</td><td>56.2</td><td>0.0</td><td>15166.0</td><td>0.0</td><td>4000.0</td><td>obsstart</td><td>14236.7</td><td>15166.0</td><td>13797.6</td><td>14267.9</td><td>dark</td><td>0.9</td><td>20201223</td><td>106.74</td><td>56.2</td></tr>\n",
       "<tr><td>80609</td><td>sv1</td><td>dark</td><td>lrgqso</td><td>cmxlrgqso</td><td>15</td><td>13500.7</td><td>150.12</td><td>2.206</td><td>0.0</td><td>7828.3</td><td>0.0</td><td>4000.0</td><td>obsstart</td><td>7847.0</td><td>7828.3</td><td>8057.3</td><td>10707.3</td><td>dark</td><td>0.9</td><td>20201217</td><td>150.12</td><td>2.206</td></tr>\n",
       "<tr><td>80610</td><td>sv1</td><td>dark</td><td>elg</td><td>cmxelg</td><td>16</td><td>13955.7</td><td>150.12</td><td>2.306</td><td>0.0</td><td>9523.2</td><td>0.0</td><td>4000.0</td><td>obsend</td><td>9378.1</td><td>9523.2</td><td>9373.5</td><td>10559.9</td><td>dark</td><td>0.9</td><td>20210208</td><td>150.12</td><td>2.306</td></tr>\n",
       "<tr><td>80612</td><td>sv1</td><td>bright</td><td>bgsmws</td><td>sv1bgsmws</td><td>17</td><td>5101.3</td><td>66.68</td><td>-5.24</td><td>0.0</td><td>1458.8</td><td>0.0</td><td>600.0</td><td>obsstart</td><td>1417.1</td><td>1535.0</td><td>1458.8</td><td>794.9</td><td>bright</td><td>0.9</td><td>20201223</td><td>66.68</td><td>-5.24</td></tr>\n",
       "<tr><td>80613</td><td>sv1</td><td>bright</td><td>bgsmws</td><td>sv1bgsmws</td><td>30</td><td>10975.0</td><td>106.74</td><td>56.1</td><td>0.0</td><td>3049.3</td><td>0.0</td><td>600.0</td><td>obsend</td><td>2967.4</td><td>3359.9</td><td>3049.3</td><td>2016.8</td><td>bright</td><td>0.9</td><td>20210324</td><td>106.74</td><td>56.1</td></tr>\n",
       "<tr><td>80616</td><td>sv1</td><td>bright</td><td>bgsmws</td><td>sv1bgsmws</td><td>17</td><td>5101.1</td><td>356.0</td><td>29.0</td><td>0.0</td><td>1538.8</td><td>0.0</td><td>600.0</td><td>obsend</td><td>1501.8</td><td>1686.3</td><td>1538.8</td><td>773.8</td><td>bright</td><td>0.9</td><td>20201223</td><td>356.0</td><td>29.0</td></tr>\n",
       "<tr><td>80617</td><td>sv1</td><td>bright</td><td>bgsmws</td><td>sv1bgsmws</td><td>16</td><td>4801.0</td><td>5.0</td><td>28.0</td><td>0.0</td><td>1309.5</td><td>0.0</td><td>600.0</td><td>obsstart</td><td>1251.7</td><td>1369.7</td><td>1309.5</td><td>884.1</td><td>bright</td><td>0.9</td><td>20201223</td><td>5.0</td><td>28.0</td></tr>\n",
       "<tr><td>...</td><td>...</td><td>...</td><td>...</td><td>...</td><td>...</td><td>...</td><td>...</td><td>...</td><td>...</td><td>...</td><td>...</td><td>...</td><td>...</td><td>...</td><td>...</td><td>...</td><td>...</td><td>...</td><td>...</td><td>...</td><td>...</td><td>...</td></tr>\n",
       "<tr><td>80661</td><td>sv1</td><td>bright</td><td>bgsmws</td><td>sv1bgsmws</td><td>11</td><td>5116.1</td><td>176.0</td><td>-0.5</td><td>0.0</td><td>1520.3</td><td>0.0</td><td>600.0</td><td>obsstart</td><td>1439.6</td><td>1583.8</td><td>1520.3</td><td>1176.9</td><td>bright</td><td>0.9</td><td>20210322</td><td>176.0</td><td>-0.5</td></tr>\n",
       "<tr><td>80662</td><td>sv1</td><td>bright</td><td>bgsmws</td><td>sv1bgsmws</td><td>11</td><td>6481.3</td><td>180.0</td><td>-0.5</td><td>0.0</td><td>1580.0</td><td>0.0</td><td>600.0</td><td>obsstart</td><td>1496.5</td><td>1687.7</td><td>1580.0</td><td>1152.0</td><td>bright</td><td>0.9</td><td>20210322</td><td>180.0</td><td>-0.5</td></tr>\n",
       "<tr><td>80663</td><td>sv1</td><td>bright</td><td>bgsmws</td><td>sv1bgsmws</td><td>12</td><td>8337.0</td><td>184.0</td><td>-0.5</td><td>0.0</td><td>2153.8</td><td>0.0</td><td>600.0</td><td>obsstart</td><td>2070.1</td><td>2321.9</td><td>2153.8</td><td>1453.8</td><td>bright</td><td>0.9</td><td>20210322</td><td>184.0</td><td>-0.5</td></tr>\n",
       "<tr><td>80664</td><td>sv1</td><td>bright</td><td>bgsmws</td><td>sv1bgsmws</td><td>15</td><td>6695.4</td><td>192.859</td><td>27.128</td><td>0.0</td><td>1435.5</td><td>0.0</td><td>600.0</td><td>obsstart</td><td>1349.8</td><td>1410.7</td><td>1435.5</td><td>1398.8</td><td>bright</td><td>0.9</td><td>20210402</td><td>192.859</td><td>27.128</td></tr>\n",
       "<tr><td>80666</td><td>sv1</td><td>bright</td><td>bgsmws</td><td>sv1bgsmws</td><td>14</td><td>9248.6</td><td>204.0</td><td>3.0</td><td>0.0</td><td>1587.0</td><td>0.0</td><td>600.0</td><td>obsstart</td><td>1521.0</td><td>1678.5</td><td>1587.0</td><td>1207.8</td><td>bright</td><td>0.9</td><td>20210402</td><td>204.0</td><td>3.0</td></tr>\n",
       "<tr><td>80686</td><td>sv1</td><td>dark</td><td>lrgqso</td><td>sv1lrgqso</td><td>14</td><td>14226.9</td><td>124.0</td><td>34.3</td><td>0.0</td><td>6186.9</td><td>0.0</td><td>4000.0</td><td>obsstart</td><td>5914.1</td><td>6186.9</td><td>5959.4</td><td>6586.1</td><td>dark</td><td>0.9</td><td>20210309</td><td>124.0</td><td>34.3</td></tr>\n",
       "<tr><td>80690</td><td>sv1</td><td>dark</td><td>lrgqso</td><td>sv1lrgqso</td><td>24</td><td>15684.2</td><td>135.0</td><td>32.375</td><td>0.0</td><td>6485.5</td><td>0.0</td><td>4000.0</td><td>obsstart</td><td>6238.6</td><td>6485.5</td><td>6489.8</td><td>6734.7</td><td>dark</td><td>0.9</td><td>20210216</td><td>135.0</td><td>32.375</td></tr>\n",
       "<tr><td>80698</td><td>sv1</td><td>dark</td><td>lrgqso</td><td>sv1lrgqso</td><td>11</td><td>8932.2</td><td>149.0</td><td>32.375</td><td>0.0</td><td>7679.7</td><td>0.0</td><td>4000.0</td><td>obsstart</td><td>7305.6</td><td>7679.7</td><td>7304.3</td><td>7643.5</td><td>dark</td><td>0.9</td><td>20210318</td><td>149.0</td><td>32.375</td></tr>\n",
       "<tr><td>80709</td><td>sv1</td><td>dark</td><td>elg</td><td>sv1elg</td><td>13</td><td>11462.0</td><td>198.0</td><td>7.0</td><td>0.0</td><td>6503.6</td><td>0.0</td><td>4000.0</td><td>obsstart</td><td>6203.2</td><td>6503.6</td><td>6245.4</td><td>6906.7</td><td>dark</td><td>0.9</td><td>20210306</td><td>198.0</td><td>7.0</td></tr>\n",
       "<tr><td>80711</td><td>sv1</td><td>dark</td><td>elgqso</td><td>sv1elgqso</td><td>23</td><td>24359.3</td><td>213.0</td><td>51.45</td><td>0.0</td><td>24034.5</td><td>0.0</td><td>4000.0</td><td>obsstart</td><td>22739.9</td><td>24034.5</td><td>22352.0</td><td>25508.3</td><td>dark</td><td>0.9</td><td>20210429</td><td>213.0</td><td>51.45</td></tr>\n",
       "</table></div>"
      ],
      "text/plain": [
       "<Table length=36>\n",
       "TILEID  SURVEY PROGRAM FAPRGRM  FAFLAVOR ... MINTFRAC LASTNIGHT    RA     DEC  \n",
       "int32  bytes20  bytes6 bytes20  bytes20  ... float64    int32   float64 float64\n",
       "------ ------- ------- ------- --------- ... -------- --------- ------- -------\n",
       " 80605     sv1    dark  lrgqso cmxlrgqso ...      0.9  20210205  36.448  -4.601\n",
       " 80606     sv1    dark     elg    cmxelg ...      0.9  20201219  36.448  -4.501\n",
       " 80607     sv1    dark  lrgqso cmxlrgqso ...      0.9  20201219  106.74    56.1\n",
       " 80608     sv1    dark     elg    cmxelg ...      0.9  20201223  106.74    56.2\n",
       " 80609     sv1    dark  lrgqso cmxlrgqso ...      0.9  20201217  150.12   2.206\n",
       " 80610     sv1    dark     elg    cmxelg ...      0.9  20210208  150.12   2.306\n",
       " 80612     sv1  bright  bgsmws sv1bgsmws ...      0.9  20201223   66.68   -5.24\n",
       " 80613     sv1  bright  bgsmws sv1bgsmws ...      0.9  20210324  106.74    56.1\n",
       " 80616     sv1  bright  bgsmws sv1bgsmws ...      0.9  20201223   356.0    29.0\n",
       " 80617     sv1  bright  bgsmws sv1bgsmws ...      0.9  20201223     5.0    28.0\n",
       "   ...     ...     ...     ...       ... ...      ...       ...     ...     ...\n",
       " 80661     sv1  bright  bgsmws sv1bgsmws ...      0.9  20210322   176.0    -0.5\n",
       " 80662     sv1  bright  bgsmws sv1bgsmws ...      0.9  20210322   180.0    -0.5\n",
       " 80663     sv1  bright  bgsmws sv1bgsmws ...      0.9  20210322   184.0    -0.5\n",
       " 80664     sv1  bright  bgsmws sv1bgsmws ...      0.9  20210402 192.859  27.128\n",
       " 80666     sv1  bright  bgsmws sv1bgsmws ...      0.9  20210402   204.0     3.0\n",
       " 80686     sv1    dark  lrgqso sv1lrgqso ...      0.9  20210309   124.0    34.3\n",
       " 80690     sv1    dark  lrgqso sv1lrgqso ...      0.9  20210216   135.0  32.375\n",
       " 80698     sv1    dark  lrgqso sv1lrgqso ...      0.9  20210318   149.0  32.375\n",
       " 80709     sv1    dark     elg    sv1elg ...      0.9  20210306   198.0     7.0\n",
       " 80711     sv1    dark  elgqso sv1elgqso ...      0.9  20210429   213.0   51.45"
      ]
     },
     "execution_count": 19,
     "metadata": {},
     "output_type": "execute_result"
    }
   ],
   "source": [
    "tiles_high_efftime"
   ]
  },
  {
   "cell_type": "code",
   "execution_count": 20,
   "id": "d29cb6c3-8d29-4ddf-94ad-43421a4cad50",
   "metadata": {
    "tags": []
   },
   "outputs": [],
   "source": [
    "from desitarget.io import read_targets_in_tiles"
   ]
  },
  {
   "cell_type": "code",
   "execution_count": 21,
   "id": "09d6c1e1-a342-46fc-b4c4-8cc551293288",
   "metadata": {
    "tags": []
   },
   "outputs": [],
   "source": [
    "hpdirname = \"/global/cfs/cdirs/desi/target/catalogs/dr9/1.1.1/targets/main/resolve/dark\"\n",
    "main_dark = Table(read_targets_in_tiles(hpdirname, tiles=tiles_sv, quick=True))\n",
    "assert np.unique(main_dark[\"TARGETID\"]).size == len(main_dark)"
   ]
  },
  {
   "cell_type": "code",
   "execution_count": 22,
   "id": "e3c51db4-37c3-49de-a01e-ac4d1caf5972",
   "metadata": {
    "tags": []
   },
   "outputs": [],
   "source": [
    "hpdirname = \"/global/cfs/cdirs/desi/target/catalogs/dr9/1.1.1/targets/main/resolve/bright\"\n",
    "main_bright = Table(read_targets_in_tiles(hpdirname, tiles=tiles_sv, quick=True))\n",
    "assert np.unique(main_bright[\"TARGETID\"]).size == len(main_bright)"
   ]
  },
  {
   "cell_type": "code",
   "execution_count": 23,
   "id": "9e9247bb-9c8f-45c7-bf9e-fed4411d53fa",
   "metadata": {
    "tags": []
   },
   "outputs": [],
   "source": [
    "in_dark = np.isin(all_vi['TARGETID'], main_dark['TARGETID'])\n",
    "in_bright = np.isin(all_vi['TARGETID'], main_bright['TARGETID'])"
   ]
  },
  {
   "cell_type": "code",
   "execution_count": 24,
   "id": "ea28201b-6a58-4396-a351-a634520b4b7c",
   "metadata": {
    "tags": []
   },
   "outputs": [
    {
     "name": "stdout",
     "output_type": "stream",
     "text": [
      "8039 9044 6201 2088\n"
     ]
    }
   ],
   "source": [
    "print(np.count_nonzero((in_dark|in_bright)), np.count_nonzero(~(in_dark|in_bright)), np.count_nonzero(in_dark), np.count_nonzero(in_bright))"
   ]
  },
  {
   "cell_type": "code",
   "execution_count": 25,
   "id": "e182dede-68eb-4be8-a8fa-1006207920f7",
   "metadata": {
    "tags": []
   },
   "outputs": [
    {
     "data": {
      "text/plain": [
       "17083"
      ]
     },
     "execution_count": 25,
     "metadata": {},
     "output_type": "execute_result"
    }
   ],
   "source": [
    "len(in_dark)"
   ]
  },
  {
   "cell_type": "code",
   "execution_count": 26,
   "id": "125946f8-97ff-4218-8c89-7533957dcf73",
   "metadata": {
    "tags": []
   },
   "outputs": [
    {
     "data": {
      "text/plain": [
       "{'BGS', 'ELG', 'LRG', 'QSO'}"
      ]
     },
     "execution_count": 26,
     "metadata": {},
     "output_type": "execute_result"
    }
   ],
   "source": [
    "set(all_vi['SUFFIX'])"
   ]
  },
  {
   "cell_type": "code",
   "execution_count": 27,
   "id": "48abffcc-e739-4ef5-a699-c0e625378a64",
   "metadata": {
    "tags": []
   },
   "outputs": [
    {
     "name": "stdout",
     "output_type": "stream",
     "text": [
      "BGS_ANY\n",
      "241731 230023 11708 12051 229538\n",
      "ELG\n",
      "267094 267094 0 267094 48\n",
      "LRG\n",
      "112600 86450 26150 86063 7145\n",
      "QSO\n",
      "35566 35566 0 35566 1135\n"
     ]
    }
   ],
   "source": [
    "for obj_type in obj_types:\n",
    "    print(obj_type)\n",
    "    in_dark = np.isin(data_obj_types[obj_type]['TARGETID'], main_dark['TARGETID'])\n",
    "    in_bright = np.isin(data_obj_types[obj_type]['TARGETID'], main_bright['TARGETID'])\n",
    "    print(np.count_nonzero(data_obj_types[obj_type]['TARGETID']), np.count_nonzero((in_dark|in_bright)), np.count_nonzero(~(in_dark|in_bright)), \n",
    "          np.count_nonzero(in_dark), np.count_nonzero(in_bright))"
   ]
  },
  {
   "cell_type": "code",
   "execution_count": null,
   "id": "40f635c6-5511-4a04-8c0c-978995df91cd",
   "metadata": {},
   "outputs": [],
   "source": []
  },
  {
   "cell_type": "code",
   "execution_count": 28,
   "id": "d0b1d0b6-0caf-4f67-944e-7f0d5f2da42d",
   "metadata": {
    "tags": []
   },
   "outputs": [
    {
     "data": {
      "text/plain": [
       "(array([534.,  50.,  21.,   3.,   1.,   1.,   2.,   1.,   1.,   1.]),\n",
       " array([   35.5 ,  2858.96,  5682.42,  8505.88, 11329.34, 14152.8 ,\n",
       "        16976.26, 19799.72, 22623.18, 25446.64, 28270.1 ]),\n",
       " <BarContainer object of 10 artists>)"
      ]
     },
     "execution_count": 28,
     "metadata": {},
     "output_type": "execute_result"
    },
    {
     "data": {
      "image/png": "[encoded data removed]",
      "text/plain": [
       "<Figure size 640x480 with 1 Axes>"
      ]
     },
     "metadata": {},
     "output_type": "display_data"
    }
   ],
   "source": [
    "plt.hist(tiles_sv['EFFTIME_SPEC'])"
   ]
  },
  {
   "cell_type": "code",
   "execution_count": 29,
   "id": "fa7cba75-41cb-4140-a51b-a6cbc296f9cd",
   "metadata": {
    "tags": []
   },
   "outputs": [
    {
     "data": {
      "text/html": [
       "<div><i>Table length=615</i>\n",
       "<table id=\"table139894887071552\" class=\"table-striped table-bordered table-condensed\">\n",
       "<thead><tr><th>TILEID</th><th>SURVEY</th><th>PROGRAM</th><th>FAPRGRM</th><th>FAFLAVOR</th><th>NEXP</th><th>EXPTIME</th><th>TILERA</th><th>TILEDEC</th><th>EFFTIME_ETC</th><th>EFFTIME_SPEC</th><th>EFFTIME_GFA</th><th>GOALTIME</th><th>OBSSTATUS</th><th>LRG_EFFTIME_DARK</th><th>ELG_EFFTIME_DARK</th><th>BGS_EFFTIME_BRIGHT</th><th>LYA_EFFTIME_DARK</th><th>GOALTYPE</th><th>MINTFRAC</th><th>LASTNIGHT</th><th>RA</th><th>DEC</th></tr></thead>\n",
       "<thead><tr><th>int32</th><th>bytes20</th><th>bytes6</th><th>bytes20</th><th>bytes20</th><th>int64</th><th>float64</th><th>float64</th><th>float64</th><th>float64</th><th>float64</th><th>float64</th><th>float64</th><th>bytes20</th><th>float64</th><th>float64</th><th>float64</th><th>float64</th><th>bytes20</th><th>float64</th><th>int32</th><th>float64</th><th>float64</th></tr></thead>\n",
       "<tr><td>80609</td><td>sv1</td><td>dark</td><td>lrgqso</td><td>cmxlrgqso</td><td>15</td><td>13500.7</td><td>150.12</td><td>2.206</td><td>0.0</td><td>7828.3</td><td>0.0</td><td>4000.0</td><td>obsstart</td><td>7847.0</td><td>7828.3</td><td>8057.3</td><td>10707.3</td><td>dark</td><td>0.9</td><td>20201217</td><td>150.12</td><td>2.206</td></tr>\n",
       "<tr><td>80607</td><td>sv1</td><td>dark</td><td>lrgqso</td><td>cmxlrgqso</td><td>15</td><td>13500.8</td><td>106.74</td><td>56.1</td><td>0.0</td><td>9374.2</td><td>0.0</td><td>4000.0</td><td>obsstart</td><td>8794.6</td><td>9374.2</td><td>8553.9</td><td>8541.1</td><td>dark</td><td>0.9</td><td>20201219</td><td>106.74</td><td>56.1</td></tr>\n",
       "<tr><td>80606</td><td>sv1</td><td>dark</td><td>elg</td><td>cmxelg</td><td>12</td><td>10800.7</td><td>36.448</td><td>-4.501</td><td>0.0</td><td>6699.4</td><td>0.0</td><td>4000.0</td><td>obsstart</td><td>6555.6</td><td>6699.4</td><td>6583.6</td><td>7397.5</td><td>dark</td><td>0.9</td><td>20201219</td><td>36.448</td><td>-4.501</td></tr>\n",
       "<tr><td>80620</td><td>sv1</td><td>dark</td><td>lrgqso</td><td>sv1lrgqso</td><td>9</td><td>8100.5</td><td>144.0</td><td>65.0</td><td>0.0</td><td>7128.7</td><td>0.0</td><td>4000.0</td><td>obsstart</td><td>6643.9</td><td>7128.7</td><td>6299.8</td><td>6316.1</td><td>dark</td><td>0.9</td><td>20201221</td><td>144.0</td><td>65.0</td></tr>\n",
       "<tr><td>80622</td><td>sv1</td><td>dark</td><td>lrgqso</td><td>sv1lrgqso</td><td>6</td><td>5400.3</td><td>155.0</td><td>32.325</td><td>0.0</td><td>4916.9</td><td>0.0</td><td>4000.0</td><td>obsstart</td><td>4772.1</td><td>4916.9</td><td>4739.8</td><td>6935.4</td><td>dark</td><td>0.9</td><td>20201221</td><td>155.0</td><td>32.325</td></tr>\n",
       "<tr><td>80623</td><td>sv1</td><td>dark</td><td>elg</td><td>sv1elg</td><td>8</td><td>7200.4</td><td>155.0</td><td>32.425</td><td>0.0</td><td>4969.7</td><td>0.0</td><td>4000.0</td><td>obsstart</td><td>4903.1</td><td>4969.7</td><td>4916.9</td><td>7266.2</td><td>dark</td><td>0.9</td><td>20201221</td><td>155.0</td><td>32.425</td></tr>\n",
       "<tr><td>80611</td><td>sv1</td><td>bright</td><td>bgsmws</td><td>sv1bgsmws</td><td>12</td><td>3600.9</td><td>35.22</td><td>30.3</td><td>0.0</td><td>669.2</td><td>0.0</td><td>600.0</td><td>obsstart</td><td>641.1</td><td>723.7</td><td>669.2</td><td>407.7</td><td>bright</td><td>0.9</td><td>20201222</td><td>35.22</td><td>30.3</td></tr>\n",
       "<tr><td>80617</td><td>sv1</td><td>bright</td><td>bgsmws</td><td>sv1bgsmws</td><td>16</td><td>4801.0</td><td>5.0</td><td>28.0</td><td>0.0</td><td>1309.5</td><td>0.0</td><td>600.0</td><td>obsstart</td><td>1251.7</td><td>1369.7</td><td>1309.5</td><td>884.1</td><td>bright</td><td>0.9</td><td>20201223</td><td>5.0</td><td>28.0</td></tr>\n",
       "<tr><td>80608</td><td>sv1</td><td>dark</td><td>elg</td><td>cmxelg</td><td>23</td><td>20701.4</td><td>106.74</td><td>56.2</td><td>0.0</td><td>15166.0</td><td>0.0</td><td>4000.0</td><td>obsstart</td><td>14236.7</td><td>15166.0</td><td>13797.6</td><td>14267.9</td><td>dark</td><td>0.9</td><td>20201223</td><td>106.74</td><td>56.2</td></tr>\n",
       "<tr><td>80621</td><td>sv1</td><td>dark</td><td>elg</td><td>sv1elg</td><td>10</td><td>9000.5</td><td>144.0</td><td>65.1</td><td>0.0</td><td>4425.7</td><td>0.0</td><td>4000.0</td><td>obsstart</td><td>4120.5</td><td>4425.7</td><td>3976.4</td><td>3583.6</td><td>dark</td><td>0.9</td><td>20201223</td><td>144.0</td><td>65.1</td></tr>\n",
       "<tr><td>...</td><td>...</td><td>...</td><td>...</td><td>...</td><td>...</td><td>...</td><td>...</td><td>...</td><td>...</td><td>...</td><td>...</td><td>...</td><td>...</td><td>...</td><td>...</td><td>...</td><td>...</td><td>...</td><td>...</td><td>...</td><td>...</td><td>...</td></tr>\n",
       "<tr><td>595</td><td>sv3</td><td>bright</td><td>bright</td><td>sv3bright</td><td>1</td><td>1009.5</td><td>236.225</td><td>43.371</td><td>225.0</td><td>337.6</td><td>289.4</td><td>220.0</td><td>obsend</td><td>345.9</td><td>387.6</td><td>337.6</td><td>154.6</td><td>bright</td><td>0.9</td><td>20210529</td><td>236.225</td><td>43.371</td></tr>\n",
       "<tr><td>373</td><td>sv3</td><td>bright</td><td>bright</td><td>sv3bright</td><td>1</td><td>1117.0</td><td>245.832</td><td>43.335</td><td>224.0</td><td>337.6</td><td>302.5</td><td>220.0</td><td>obsend</td><td>344.7</td><td>382.5</td><td>337.6</td><td>152.5</td><td>bright</td><td>0.9</td><td>20210529</td><td>245.832</td><td>43.335</td></tr>\n",
       "<tr><td>49</td><td>sv3</td><td>bright</td><td>bright</td><td>sv3bright</td><td>1</td><td>1050.9</td><td>179.691</td><td>-0.078</td><td>222.5</td><td>285.3</td><td>283.0</td><td>220.0</td><td>obsend</td><td>280.4</td><td>275.4</td><td>285.3</td><td>175.2</td><td>bright</td><td>0.9</td><td>20210529</td><td>179.691</td><td>-0.078</td></tr>\n",
       "<tr><td>184</td><td>sv3</td><td>bright</td><td>bright</td><td>sv3bright</td><td>1</td><td>389.1</td><td>215.546</td><td>52.383</td><td>226.9</td><td>250.7</td><td>271.7</td><td>220.0</td><td>obsend</td><td>250.8</td><td>264.9</td><td>250.7</td><td>182.6</td><td>bright</td><td>0.9</td><td>20210529</td><td>215.546</td><td>52.383</td></tr>\n",
       "<tr><td>346</td><td>sv3</td><td>bright</td><td>bright</td><td>sv3bright</td><td>1</td><td>1146.0</td><td>241.016</td><td>43.333</td><td>220.6</td><td>341.0</td><td>306.9</td><td>220.0</td><td>obsend</td><td>347.9</td><td>386.0</td><td>341.0</td><td>152.8</td><td>bright</td><td>0.9</td><td>20210529</td><td>241.016</td><td>43.333</td></tr>\n",
       "<tr><td>400</td><td>sv3</td><td>bright</td><td>bright</td><td>sv3bright</td><td>1</td><td>939.0</td><td>252.442</td><td>34.39</td><td>223.2</td><td>324.4</td><td>290.9</td><td>220.0</td><td>obsend</td><td>330.7</td><td>368.8</td><td>324.4</td><td>157.6</td><td>bright</td><td>0.9</td><td>20210529</td><td>252.442</td><td>34.39</td></tr>\n",
       "<tr><td>265</td><td>sv3</td><td>bright</td><td>bright</td><td>sv3bright</td><td>2</td><td>2180.0</td><td>219.819</td><td>-0.718</td><td>222.2</td><td>347.5</td><td>319.4</td><td>220.0</td><td>obsend</td><td>348.9</td><td>387.2</td><td>347.5</td><td>134.9</td><td>bright</td><td>0.9</td><td>20210529</td><td>219.819</td><td>-0.718</td></tr>\n",
       "<tr><td>504</td><td>sv3</td><td>bright</td><td>bright</td><td>sv3bright</td><td>1</td><td>384.3</td><td>194.619</td><td>24.683</td><td>231.5</td><td>268.5</td><td>280.7</td><td>220.0</td><td>obsend</td><td>272.1</td><td>267.1</td><td>268.5</td><td>174.3</td><td>bright</td><td>0.9</td><td>20210529</td><td>194.619</td><td>24.683</td></tr>\n",
       "<tr><td>76</td><td>sv3</td><td>bright</td><td>bright</td><td>sv3bright</td><td>1</td><td>761.3</td><td>183.186</td><td>-0.083</td><td>225.2</td><td>283.0</td><td>297.0</td><td>220.0</td><td>obsend</td><td>284.5</td><td>281.2</td><td>283.0</td><td>184.0</td><td>bright</td><td>0.9</td><td>20210529</td><td>183.186</td><td>-0.083</td></tr>\n",
       "<tr><td>521</td><td>sv3</td><td>dark</td><td>dark</td><td>sv3dark</td><td>1</td><td>1378.7</td><td>212.891</td><td>-0.679</td><td>1211.8</td><td>1227.0</td><td>1196.3</td><td>1200.0</td><td>obsend</td><td>1285.5</td><td>1227.0</td><td>1209.1</td><td>1084.5</td><td>dark</td><td>0.9</td><td>20210610</td><td>212.891</td><td>-0.679</td></tr>\n",
       "</table></div>"
      ],
      "text/plain": [
       "<Table length=615>\n",
       "TILEID  SURVEY PROGRAM FAPRGRM  FAFLAVOR ... MINTFRAC LASTNIGHT    RA     DEC  \n",
       "int32  bytes20  bytes6 bytes20  bytes20  ... float64    int32   float64 float64\n",
       "------ ------- ------- ------- --------- ... -------- --------- ------- -------\n",
       " 80609     sv1    dark  lrgqso cmxlrgqso ...      0.9  20201217  150.12   2.206\n",
       " 80607     sv1    dark  lrgqso cmxlrgqso ...      0.9  20201219  106.74    56.1\n",
       " 80606     sv1    dark     elg    cmxelg ...      0.9  20201219  36.448  -4.501\n",
       " 80620     sv1    dark  lrgqso sv1lrgqso ...      0.9  20201221   144.0    65.0\n",
       " 80622     sv1    dark  lrgqso sv1lrgqso ...      0.9  20201221   155.0  32.325\n",
       " 80623     sv1    dark     elg    sv1elg ...      0.9  20201221   155.0  32.425\n",
       " 80611     sv1  bright  bgsmws sv1bgsmws ...      0.9  20201222   35.22    30.3\n",
       " 80617     sv1  bright  bgsmws sv1bgsmws ...      0.9  20201223     5.0    28.0\n",
       " 80608     sv1    dark     elg    cmxelg ...      0.9  20201223  106.74    56.2\n",
       " 80621     sv1    dark     elg    sv1elg ...      0.9  20201223   144.0    65.1\n",
       "   ...     ...     ...     ...       ... ...      ...       ...     ...     ...\n",
       "   595     sv3  bright  bright sv3bright ...      0.9  20210529 236.225  43.371\n",
       "   373     sv3  bright  bright sv3bright ...      0.9  20210529 245.832  43.335\n",
       "    49     sv3  bright  bright sv3bright ...      0.9  20210529 179.691  -0.078\n",
       "   184     sv3  bright  bright sv3bright ...      0.9  20210529 215.546  52.383\n",
       "   346     sv3  bright  bright sv3bright ...      0.9  20210529 241.016  43.333\n",
       "   400     sv3  bright  bright sv3bright ...      0.9  20210529 252.442   34.39\n",
       "   265     sv3  bright  bright sv3bright ...      0.9  20210529 219.819  -0.718\n",
       "   504     sv3  bright  bright sv3bright ...      0.9  20210529 194.619  24.683\n",
       "    76     sv3  bright  bright sv3bright ...      0.9  20210529 183.186  -0.083\n",
       "   521     sv3    dark    dark   sv3dark ...      0.9  20210610 212.891  -0.679"
      ]
     },
     "execution_count": 29,
     "metadata": {},
     "output_type": "execute_result"
    }
   ],
   "source": [
    "tiles_sv"
   ]
  },
  {
   "cell_type": "code",
   "execution_count": 30,
   "id": "413e79fa-6287-4980-839c-b30222e4ad7f",
   "metadata": {
    "tags": []
   },
   "outputs": [
    {
     "data": {
      "text/html": [
       "<div><i>Table length=36</i>\n",
       "<table id=\"table139894887528768\" class=\"table-striped table-bordered table-condensed\">\n",
       "<thead><tr><th>TILEID</th><th>SURVEY</th><th>PROGRAM</th><th>FAPRGRM</th><th>FAFLAVOR</th><th>NEXP</th><th>EXPTIME</th><th>TILERA</th><th>TILEDEC</th><th>EFFTIME_ETC</th><th>EFFTIME_SPEC</th><th>EFFTIME_GFA</th><th>GOALTIME</th><th>OBSSTATUS</th><th>LRG_EFFTIME_DARK</th><th>ELG_EFFTIME_DARK</th><th>BGS_EFFTIME_BRIGHT</th><th>LYA_EFFTIME_DARK</th><th>GOALTYPE</th><th>MINTFRAC</th><th>LASTNIGHT</th><th>RA</th><th>DEC</th></tr></thead>\n",
       "<thead><tr><th>int32</th><th>bytes20</th><th>bytes6</th><th>bytes20</th><th>bytes20</th><th>int64</th><th>float64</th><th>float64</th><th>float64</th><th>float64</th><th>float64</th><th>float64</th><th>float64</th><th>bytes20</th><th>float64</th><th>float64</th><th>float64</th><th>float64</th><th>bytes20</th><th>float64</th><th>int32</th><th>float64</th><th>float64</th></tr></thead>\n",
       "<tr><td>80605</td><td>sv1</td><td>dark</td><td>lrgqso</td><td>cmxlrgqso</td><td>24</td><td>19559.1</td><td>36.448</td><td>-4.601</td><td>0.0</td><td>6872.9</td><td>0.0</td><td>4000.0</td><td>obsstart</td><td>6711.4</td><td>6872.9</td><td>6890.6</td><td>6824.3</td><td>dark</td><td>0.9</td><td>20210205</td><td>36.448</td><td>-4.601</td></tr>\n",
       "<tr><td>80606</td><td>sv1</td><td>dark</td><td>elg</td><td>cmxelg</td><td>12</td><td>10800.7</td><td>36.448</td><td>-4.501</td><td>0.0</td><td>6699.4</td><td>0.0</td><td>4000.0</td><td>obsstart</td><td>6555.6</td><td>6699.4</td><td>6583.6</td><td>7397.5</td><td>dark</td><td>0.9</td><td>20201219</td><td>36.448</td><td>-4.501</td></tr>\n",
       "<tr><td>80607</td><td>sv1</td><td>dark</td><td>lrgqso</td><td>cmxlrgqso</td><td>15</td><td>13500.8</td><td>106.74</td><td>56.1</td><td>0.0</td><td>9374.2</td><td>0.0</td><td>4000.0</td><td>obsstart</td><td>8794.6</td><td>9374.2</td><td>8553.9</td><td>8541.1</td><td>dark</td><td>0.9</td><td>20201219</td><td>106.74</td><td>56.1</td></tr>\n",
       "<tr><td>80608</td><td>sv1</td><td>dark</td><td>elg</td><td>cmxelg</td><td>23</td><td>20701.4</td><td>106.74</td><td>56.2</td><td>0.0</td><td>15166.0</td><td>0.0</td><td>4000.0</td><td>obsstart</td><td>14236.7</td><td>15166.0</td><td>13797.6</td><td>14267.9</td><td>dark</td><td>0.9</td><td>20201223</td><td>106.74</td><td>56.2</td></tr>\n",
       "<tr><td>80609</td><td>sv1</td><td>dark</td><td>lrgqso</td><td>cmxlrgqso</td><td>15</td><td>13500.7</td><td>150.12</td><td>2.206</td><td>0.0</td><td>7828.3</td><td>0.0</td><td>4000.0</td><td>obsstart</td><td>7847.0</td><td>7828.3</td><td>8057.3</td><td>10707.3</td><td>dark</td><td>0.9</td><td>20201217</td><td>150.12</td><td>2.206</td></tr>\n",
       "<tr><td>80610</td><td>sv1</td><td>dark</td><td>elg</td><td>cmxelg</td><td>16</td><td>13955.7</td><td>150.12</td><td>2.306</td><td>0.0</td><td>9523.2</td><td>0.0</td><td>4000.0</td><td>obsend</td><td>9378.1</td><td>9523.2</td><td>9373.5</td><td>10559.9</td><td>dark</td><td>0.9</td><td>20210208</td><td>150.12</td><td>2.306</td></tr>\n",
       "<tr><td>80612</td><td>sv1</td><td>bright</td><td>bgsmws</td><td>sv1bgsmws</td><td>17</td><td>5101.3</td><td>66.68</td><td>-5.24</td><td>0.0</td><td>1458.8</td><td>0.0</td><td>600.0</td><td>obsstart</td><td>1417.1</td><td>1535.0</td><td>1458.8</td><td>794.9</td><td>bright</td><td>0.9</td><td>20201223</td><td>66.68</td><td>-5.24</td></tr>\n",
       "<tr><td>80613</td><td>sv1</td><td>bright</td><td>bgsmws</td><td>sv1bgsmws</td><td>30</td><td>10975.0</td><td>106.74</td><td>56.1</td><td>0.0</td><td>3049.3</td><td>0.0</td><td>600.0</td><td>obsend</td><td>2967.4</td><td>3359.9</td><td>3049.3</td><td>2016.8</td><td>bright</td><td>0.9</td><td>20210324</td><td>106.74</td><td>56.1</td></tr>\n",
       "<tr><td>80616</td><td>sv1</td><td>bright</td><td>bgsmws</td><td>sv1bgsmws</td><td>17</td><td>5101.1</td><td>356.0</td><td>29.0</td><td>0.0</td><td>1538.8</td><td>0.0</td><td>600.0</td><td>obsend</td><td>1501.8</td><td>1686.3</td><td>1538.8</td><td>773.8</td><td>bright</td><td>0.9</td><td>20201223</td><td>356.0</td><td>29.0</td></tr>\n",
       "<tr><td>80617</td><td>sv1</td><td>bright</td><td>bgsmws</td><td>sv1bgsmws</td><td>16</td><td>4801.0</td><td>5.0</td><td>28.0</td><td>0.0</td><td>1309.5</td><td>0.0</td><td>600.0</td><td>obsstart</td><td>1251.7</td><td>1369.7</td><td>1309.5</td><td>884.1</td><td>bright</td><td>0.9</td><td>20201223</td><td>5.0</td><td>28.0</td></tr>\n",
       "<tr><td>...</td><td>...</td><td>...</td><td>...</td><td>...</td><td>...</td><td>...</td><td>...</td><td>...</td><td>...</td><td>...</td><td>...</td><td>...</td><td>...</td><td>...</td><td>...</td><td>...</td><td>...</td><td>...</td><td>...</td><td>...</td><td>...</td><td>...</td></tr>\n",
       "<tr><td>80661</td><td>sv1</td><td>bright</td><td>bgsmws</td><td>sv1bgsmws</td><td>11</td><td>5116.1</td><td>176.0</td><td>-0.5</td><td>0.0</td><td>1520.3</td><td>0.0</td><td>600.0</td><td>obsstart</td><td>1439.6</td><td>1583.8</td><td>1520.3</td><td>1176.9</td><td>bright</td><td>0.9</td><td>20210322</td><td>176.0</td><td>-0.5</td></tr>\n",
       "<tr><td>80662</td><td>sv1</td><td>bright</td><td>bgsmws</td><td>sv1bgsmws</td><td>11</td><td>6481.3</td><td>180.0</td><td>-0.5</td><td>0.0</td><td>1580.0</td><td>0.0</td><td>600.0</td><td>obsstart</td><td>1496.5</td><td>1687.7</td><td>1580.0</td><td>1152.0</td><td>bright</td><td>0.9</td><td>20210322</td><td>180.0</td><td>-0.5</td></tr>\n",
       "<tr><td>80663</td><td>sv1</td><td>bright</td><td>bgsmws</td><td>sv1bgsmws</td><td>12</td><td>8337.0</td><td>184.0</td><td>-0.5</td><td>0.0</td><td>2153.8</td><td>0.0</td><td>600.0</td><td>obsstart</td><td>2070.1</td><td>2321.9</td><td>2153.8</td><td>1453.8</td><td>bright</td><td>0.9</td><td>20210322</td><td>184.0</td><td>-0.5</td></tr>\n",
       "<tr><td>80664</td><td>sv1</td><td>bright</td><td>bgsmws</td><td>sv1bgsmws</td><td>15</td><td>6695.4</td><td>192.859</td><td>27.128</td><td>0.0</td><td>1435.5</td><td>0.0</td><td>600.0</td><td>obsstart</td><td>1349.8</td><td>1410.7</td><td>1435.5</td><td>1398.8</td><td>bright</td><td>0.9</td><td>20210402</td><td>192.859</td><td>27.128</td></tr>\n",
       "<tr><td>80666</td><td>sv1</td><td>bright</td><td>bgsmws</td><td>sv1bgsmws</td><td>14</td><td>9248.6</td><td>204.0</td><td>3.0</td><td>0.0</td><td>1587.0</td><td>0.0</td><td>600.0</td><td>obsstart</td><td>1521.0</td><td>1678.5</td><td>1587.0</td><td>1207.8</td><td>bright</td><td>0.9</td><td>20210402</td><td>204.0</td><td>3.0</td></tr>\n",
       "<tr><td>80686</td><td>sv1</td><td>dark</td><td>lrgqso</td><td>sv1lrgqso</td><td>14</td><td>14226.9</td><td>124.0</td><td>34.3</td><td>0.0</td><td>6186.9</td><td>0.0</td><td>4000.0</td><td>obsstart</td><td>5914.1</td><td>6186.9</td><td>5959.4</td><td>6586.1</td><td>dark</td><td>0.9</td><td>20210309</td><td>124.0</td><td>34.3</td></tr>\n",
       "<tr><td>80690</td><td>sv1</td><td>dark</td><td>lrgqso</td><td>sv1lrgqso</td><td>24</td><td>15684.2</td><td>135.0</td><td>32.375</td><td>0.0</td><td>6485.5</td><td>0.0</td><td>4000.0</td><td>obsstart</td><td>6238.6</td><td>6485.5</td><td>6489.8</td><td>6734.7</td><td>dark</td><td>0.9</td><td>20210216</td><td>135.0</td><td>32.375</td></tr>\n",
       "<tr><td>80698</td><td>sv1</td><td>dark</td><td>lrgqso</td><td>sv1lrgqso</td><td>11</td><td>8932.2</td><td>149.0</td><td>32.375</td><td>0.0</td><td>7679.7</td><td>0.0</td><td>4000.0</td><td>obsstart</td><td>7305.6</td><td>7679.7</td><td>7304.3</td><td>7643.5</td><td>dark</td><td>0.9</td><td>20210318</td><td>149.0</td><td>32.375</td></tr>\n",
       "<tr><td>80709</td><td>sv1</td><td>dark</td><td>elg</td><td>sv1elg</td><td>13</td><td>11462.0</td><td>198.0</td><td>7.0</td><td>0.0</td><td>6503.6</td><td>0.0</td><td>4000.0</td><td>obsstart</td><td>6203.2</td><td>6503.6</td><td>6245.4</td><td>6906.7</td><td>dark</td><td>0.9</td><td>20210306</td><td>198.0</td><td>7.0</td></tr>\n",
       "<tr><td>80711</td><td>sv1</td><td>dark</td><td>elgqso</td><td>sv1elgqso</td><td>23</td><td>24359.3</td><td>213.0</td><td>51.45</td><td>0.0</td><td>24034.5</td><td>0.0</td><td>4000.0</td><td>obsstart</td><td>22739.9</td><td>24034.5</td><td>22352.0</td><td>25508.3</td><td>dark</td><td>0.9</td><td>20210429</td><td>213.0</td><td>51.45</td></tr>\n",
       "</table></div>"
      ],
      "text/plain": [
       "<Table length=36>\n",
       "TILEID  SURVEY PROGRAM FAPRGRM  FAFLAVOR ... MINTFRAC LASTNIGHT    RA     DEC  \n",
       "int32  bytes20  bytes6 bytes20  bytes20  ... float64    int32   float64 float64\n",
       "------ ------- ------- ------- --------- ... -------- --------- ------- -------\n",
       " 80605     sv1    dark  lrgqso cmxlrgqso ...      0.9  20210205  36.448  -4.601\n",
       " 80606     sv1    dark     elg    cmxelg ...      0.9  20201219  36.448  -4.501\n",
       " 80607     sv1    dark  lrgqso cmxlrgqso ...      0.9  20201219  106.74    56.1\n",
       " 80608     sv1    dark     elg    cmxelg ...      0.9  20201223  106.74    56.2\n",
       " 80609     sv1    dark  lrgqso cmxlrgqso ...      0.9  20201217  150.12   2.206\n",
       " 80610     sv1    dark     elg    cmxelg ...      0.9  20210208  150.12   2.306\n",
       " 80612     sv1  bright  bgsmws sv1bgsmws ...      0.9  20201223   66.68   -5.24\n",
       " 80613     sv1  bright  bgsmws sv1bgsmws ...      0.9  20210324  106.74    56.1\n",
       " 80616     sv1  bright  bgsmws sv1bgsmws ...      0.9  20201223   356.0    29.0\n",
       " 80617     sv1  bright  bgsmws sv1bgsmws ...      0.9  20201223     5.0    28.0\n",
       "   ...     ...     ...     ...       ... ...      ...       ...     ...     ...\n",
       " 80661     sv1  bright  bgsmws sv1bgsmws ...      0.9  20210322   176.0    -0.5\n",
       " 80662     sv1  bright  bgsmws sv1bgsmws ...      0.9  20210322   180.0    -0.5\n",
       " 80663     sv1  bright  bgsmws sv1bgsmws ...      0.9  20210322   184.0    -0.5\n",
       " 80664     sv1  bright  bgsmws sv1bgsmws ...      0.9  20210402 192.859  27.128\n",
       " 80666     sv1  bright  bgsmws sv1bgsmws ...      0.9  20210402   204.0     3.0\n",
       " 80686     sv1    dark  lrgqso sv1lrgqso ...      0.9  20210309   124.0    34.3\n",
       " 80690     sv1    dark  lrgqso sv1lrgqso ...      0.9  20210216   135.0  32.375\n",
       " 80698     sv1    dark  lrgqso sv1lrgqso ...      0.9  20210318   149.0  32.375\n",
       " 80709     sv1    dark     elg    sv1elg ...      0.9  20210306   198.0     7.0\n",
       " 80711     sv1    dark  elgqso sv1elgqso ...      0.9  20210429   213.0   51.45"
      ]
     },
     "execution_count": 30,
     "metadata": {},
     "output_type": "execute_result"
    }
   ],
   "source": [
    "tiles_high_efftime"
   ]
  },
  {
   "cell_type": "code",
   "execution_count": 31,
   "id": "e4dde07e-b3b5-4cc8-8274-b7ff4b873967",
   "metadata": {
    "tags": []
   },
   "outputs": [
    {
     "name": "stdout",
     "output_type": "stream",
     "text": [
      "/global/cfs/cdirs/desi/target/fiberassign/tiles/trunk/080/fiberassign-080605.fits.gz\n",
      "80605 2043 lrgqso\n",
      "/global/cfs/cdirs/desi/target/fiberassign/tiles/trunk/080/fiberassign-080606.fits.gz\n",
      "80606 1638 elg\n",
      "/global/cfs/cdirs/desi/target/fiberassign/tiles/trunk/080/fiberassign-080607.fits.gz\n",
      "80607 1854 lrgqso\n",
      "/global/cfs/cdirs/desi/target/fiberassign/tiles/trunk/080/fiberassign-080608.fits.gz\n",
      "80608 1428 elg\n",
      "/global/cfs/cdirs/desi/target/fiberassign/tiles/trunk/080/fiberassign-080609.fits.gz\n",
      "80609 1956 lrgqso\n",
      "/global/cfs/cdirs/desi/target/fiberassign/tiles/trunk/080/fiberassign-080610.fits.gz\n",
      "80610 1657 elg\n",
      "/global/cfs/cdirs/desi/target/fiberassign/tiles/trunk/080/fiberassign-080612.fits.gz\n",
      "80612 2893 bgsmws\n",
      "/global/cfs/cdirs/desi/target/fiberassign/tiles/trunk/080/fiberassign-080613.fits.gz\n",
      "80613 2907 bgsmws\n",
      "/global/cfs/cdirs/desi/target/fiberassign/tiles/trunk/080/fiberassign-080616.fits.gz\n",
      "80616 2720 bgsmws\n",
      "/global/cfs/cdirs/desi/target/fiberassign/tiles/trunk/080/fiberassign-080617.fits.gz\n",
      "80617 2986 bgsmws\n",
      "/global/cfs/cdirs/desi/target/fiberassign/tiles/trunk/080/fiberassign-080618.fits.gz\n",
      "80618 3021 bgsmws\n",
      "/global/cfs/cdirs/desi/target/fiberassign/tiles/trunk/080/fiberassign-080619.fits.gz\n",
      "80619 2688 bgsmws\n",
      "/global/cfs/cdirs/desi/target/fiberassign/tiles/trunk/080/fiberassign-080641.fits.gz\n",
      "80641 2810 bgsmws\n",
      "/global/cfs/cdirs/desi/target/fiberassign/tiles/trunk/080/fiberassign-080642.fits.gz\n",
      "80642 2760 bgsmws\n",
      "/global/cfs/cdirs/desi/target/fiberassign/tiles/trunk/080/fiberassign-080643.fits.gz\n",
      "80643 2861 bgsmws\n",
      "/global/cfs/cdirs/desi/target/fiberassign/tiles/trunk/080/fiberassign-080644.fits.gz\n",
      "80644 2948 bgsmws\n",
      "/global/cfs/cdirs/desi/target/fiberassign/tiles/trunk/080/fiberassign-080645.fits.gz\n",
      "80645 2937 bgsmws\n",
      "/global/cfs/cdirs/desi/target/fiberassign/tiles/trunk/080/fiberassign-080646.fits.gz\n",
      "80646 2877 bgsmws\n",
      "/global/cfs/cdirs/desi/target/fiberassign/tiles/trunk/080/fiberassign-080647.fits.gz\n",
      "80647 2927 bgsmws\n",
      "/global/cfs/cdirs/desi/target/fiberassign/tiles/trunk/080/fiberassign-080650.fits.gz\n",
      "80650 2994 bgsmws\n",
      "/global/cfs/cdirs/desi/target/fiberassign/tiles/trunk/080/fiberassign-080653.fits.gz\n",
      "80653 2652 bgsmws\n",
      "/global/cfs/cdirs/desi/target/fiberassign/tiles/trunk/080/fiberassign-080654.fits.gz\n",
      "80654 2763 bgsmws\n",
      "/global/cfs/cdirs/desi/target/fiberassign/tiles/trunk/080/fiberassign-080655.fits.gz\n",
      "80655 2910 bgsmws\n",
      "/global/cfs/cdirs/desi/target/fiberassign/tiles/trunk/080/fiberassign-080656.fits.gz\n",
      "80656 2669 bgsmws\n",
      "/global/cfs/cdirs/desi/target/fiberassign/tiles/trunk/080/fiberassign-080658.fits.gz\n",
      "80658 2564 bgsmws\n",
      "/global/cfs/cdirs/desi/target/fiberassign/tiles/trunk/080/fiberassign-080660.fits.gz\n",
      "80660 2645 bgsmws\n",
      "/global/cfs/cdirs/desi/target/fiberassign/tiles/trunk/080/fiberassign-080661.fits.gz\n",
      "80661 2763 bgsmws\n",
      "/global/cfs/cdirs/desi/target/fiberassign/tiles/trunk/080/fiberassign-080662.fits.gz\n",
      "80662 2969 bgsmws\n",
      "/global/cfs/cdirs/desi/target/fiberassign/tiles/trunk/080/fiberassign-080663.fits.gz\n",
      "80663 2890 bgsmws\n",
      "/global/cfs/cdirs/desi/target/fiberassign/tiles/trunk/080/fiberassign-080664.fits.gz\n",
      "80664 2665 bgsmws\n",
      "/global/cfs/cdirs/desi/target/fiberassign/tiles/trunk/080/fiberassign-080666.fits.gz\n",
      "80666 2916 bgsmws\n",
      "/global/cfs/cdirs/desi/target/fiberassign/tiles/trunk/080/fiberassign-080686.fits.gz\n",
      "80686 1972 lrgqso\n",
      "/global/cfs/cdirs/desi/target/fiberassign/tiles/trunk/080/fiberassign-080690.fits.gz\n",
      "80690 1988 lrgqso\n",
      "/global/cfs/cdirs/desi/target/fiberassign/tiles/trunk/080/fiberassign-080698.fits.gz\n",
      "80698 2334 lrgqso\n",
      "/global/cfs/cdirs/desi/target/fiberassign/tiles/trunk/080/fiberassign-080709.fits.gz\n",
      "80709 1723 elg\n",
      "/global/cfs/cdirs/desi/target/fiberassign/tiles/trunk/080/fiberassign-080711.fits.gz\n",
      "80711 1901 elgqso\n"
     ]
    }
   ],
   "source": [
    "fba_path = \"/global/cfs/cdirs/desi/target/fiberassign/tiles/trunk/\" \n",
    "for tileh in tiles_high_efftime:\n",
    "    tileid = tileh['TILEID']\n",
    "    fba_file = os.path.join(fba_path, '{:03d}'.format(tileid//1000), 'fiberassign-{:06d}.fits.gz'.format(tileid))\n",
    "    print(fba_file)\n",
    "    d = Table(fitsio.read(fba_file, \"FIBERASSIGN\"))\n",
    "    in_dark = np.isin(d['TARGETID'], main_dark['TARGETID'])\n",
    "    in_bright = np.isin(d['TARGETID'], main_bright['TARGETID'])\n",
    "    in_main = np.count_nonzero(in_dark|in_bright)\n",
    "    print(tileid, in_main, tileh['FAPRGRM'])"
   ]
  },
  {
   "cell_type": "code",
   "execution_count": 32,
   "id": "2d7f281d-8762-4a5d-ba44-384535a9e35d",
   "metadata": {
    "tags": []
   },
   "outputs": [
    {
     "data": {
      "text/html": [
       "&lt;Column name=&apos;TARGETID&apos; dtype=&apos;int64&apos; length=5000&gt;\n",
       "<table>\n",
       "<tr><td>39633252301931751</td></tr>\n",
       "<tr><td>39633252301933320</td></tr>\n",
       "<tr><td>39633252306125282</td></tr>\n",
       "<tr><td>39633256173274124</td></tr>\n",
       "<tr><td>39633256173275456</td></tr>\n",
       "<tr><td>39633256169081219</td></tr>\n",
       "<tr><td>39633256173273478</td></tr>\n",
       "<tr><td>39633256173273190</td></tr>\n",
       "<tr><td>39633252301932354</td></tr>\n",
       "<tr><td>39633252301933468</td></tr>\n",
       "<tr><td>616094008476696779</td></tr>\n",
       "<tr><td>39633256169080385</td></tr>\n",
       "<tr><td>...</td></tr>\n",
       "<tr><td>39633260027838584</td></tr>\n",
       "<tr><td>39633256181663853</td></tr>\n",
       "<tr><td>39633256181662096</td></tr>\n",
       "<tr><td>39633256181662176</td></tr>\n",
       "<tr><td>616094008480891339</td></tr>\n",
       "<tr><td>39633256181663337</td></tr>\n",
       "<tr><td>39633252314514964</td></tr>\n",
       "<tr><td>39633260027838912</td></tr>\n",
       "<tr><td>39633256177470785</td></tr>\n",
       "<tr><td>39633256181663615</td></tr>\n",
       "<tr><td>39633256181663356</td></tr>\n",
       "<tr><td>616094008485086375</td></tr>\n",
       "</table>"
      ],
      "text/plain": [
       "<Column name='TARGETID' dtype='int64' length=5000>\n",
       " 39633252301931751\n",
       " 39633252301933320\n",
       " 39633252306125282\n",
       " 39633256173274124\n",
       " 39633256173275456\n",
       " 39633256169081219\n",
       " 39633256173273478\n",
       " 39633256173273190\n",
       " 39633252301932354\n",
       " 39633252301933468\n",
       "616094008476696779\n",
       " 39633256169080385\n",
       "               ...\n",
       " 39633260027838584\n",
       " 39633256181663853\n",
       " 39633256181662096\n",
       " 39633256181662176\n",
       "616094008480891339\n",
       " 39633256181663337\n",
       " 39633252314514964\n",
       " 39633260027838912\n",
       " 39633256177470785\n",
       " 39633256181663615\n",
       " 39633256181663356\n",
       "616094008485086375"
      ]
     },
     "execution_count": 32,
     "metadata": {},
     "output_type": "execute_result"
    }
   ],
   "source": [
    "d['TARGETID']"
   ]
  },
  {
   "cell_type": "code",
   "execution_count": null,
   "id": "bb371aa2-28b3-4678-bf0f-9cce4f56e3e8",
   "metadata": {},
   "outputs": [],
   "source": []
  }
 ],
 "metadata": {
  "kernelspec": {
   "display_name": "DESI main",
   "language": "python",
   "name": "desi-main"
  },
  "language_info": {
   "codemirror_mode": {
    "name": "ipython",
    "version": 3
   },
   "file_extension": ".py",
   "mimetype": "text/x-python",
   "name": "python",
   "nbconvert_exporter": "python",
   "pygments_lexer": "ipython3",
   "version": "3.10.8"
  }
 },
 "nbformat": 4,
 "nbformat_minor": 5
}
